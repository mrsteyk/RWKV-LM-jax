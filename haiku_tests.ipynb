{
 "cells": [
  {
   "cell_type": "code",
   "execution_count": 1,
   "metadata": {},
   "outputs": [],
   "source": [
    "import haiku as hk\n",
    "import jax\n",
    "import jax.numpy as jnp\n",
    "import jmp\n",
    "import model"
   ]
  },
  {
   "cell_type": "code",
   "execution_count": null,
   "metadata": {},
   "outputs": [],
   "source": [
    "def _forward(x):\n",
    "    a = model.RWKV(num_layers=12, vocab_size=50277, n_embd=1024, dim_att=1024, dim_ffn=1024*4)\n",
    "    return a(x)\n",
    "\n",
    "policy = jmp.get_policy('p=f16,c=f16,o=f16')\n",
    "policy_wkv = jmp.get_policy('p=f32,c=f32,o=f16')\n",
    "hk.mixed_precision.set_policy(_forward, policy)\n",
    "hk.mixed_precision.set_policy(model.WKV, policy_wkv)\n",
    "\n",
    "a = hk.transform(_forward)\n",
    "\n",
    "dummy_x = jnp.ones((1024), dtype=int)\n",
    "rng_key = jax.random.PRNGKey(42)\n",
    "\n",
    "i = a.init(rng=rng_key, x=dummy_x)\n",
    "\n",
    "i"
   ]
  },
  {
   "cell_type": "code",
   "execution_count": 2,
   "metadata": {},
   "outputs": [
    {
     "data": {
      "text/plain": [
       "(Array([0, 1, 2, 3, 4], dtype=int32), Array([0, 1, 2, 3, 4], dtype=int32))"
      ]
     },
     "execution_count": 2,
     "metadata": {},
     "output_type": "execute_result"
    }
   ],
   "source": [
    "jnp.arange(5), jnp.array([0,1,2,3,4])"
   ]
  },
  {
   "cell_type": "code",
   "execution_count": 3,
   "metadata": {},
   "outputs": [
    {
     "data": {
      "text/plain": [
       "Array([[0, 1, 2, 3, 4]], dtype=int32)"
      ]
     },
     "execution_count": 3,
     "metadata": {},
     "output_type": "execute_result"
    }
   ],
   "source": [
    "# why does it need `,`\n",
    "jnp.arange(5)[jnp.newaxis,:]"
   ]
  },
  {
   "cell_type": "code",
   "execution_count": 4,
   "metadata": {},
   "outputs": [
    {
     "data": {
      "text/plain": [
       "Array([[1, 4],\n",
       "       [2, 5],\n",
       "       [3, 6]], dtype=int32)"
      ]
     },
     "execution_count": 4,
     "metadata": {},
     "output_type": "execute_result"
    }
   ],
   "source": [
    "jnp.array([[1, 2, 3], [4, 5, 6]]).T"
   ]
  },
  {
   "cell_type": "code",
   "execution_count": 9,
   "metadata": {},
   "outputs": [
    {
     "data": {
      "text/plain": [
       "(Array([[1],\n",
       "        [2],\n",
       "        [3]], dtype=int32),\n",
       " Array([[1],\n",
       "        [2],\n",
       "        [3]], dtype=int32),\n",
       " (3, 1))"
      ]
     },
     "execution_count": 9,
     "metadata": {},
     "output_type": "execute_result"
    }
   ],
   "source": [
    "# Time decay/first are monotonous arrays\n",
    "a = jnp.array([1,2,3])\n",
    "a = a[:,jnp.newaxis]\n",
    "aa = jnp.expand_dims(a, 1)\n",
    "aa, a, a.shape"
   ]
  },
  {
   "cell_type": "code",
   "execution_count": 10,
   "metadata": {},
   "outputs": [
    {
     "data": {
      "text/plain": [
       "(Array([[1],\n",
       "        [2],\n",
       "        [3]], dtype=int32),\n",
       " Array([[-2, -1,  0]], dtype=int32),\n",
       " Array([[-2, -1,  0],\n",
       "        [-4, -2,  0],\n",
       "        [-6, -3,  0]], dtype=int32),\n",
       " Array([[-2, -1,  0,  1],\n",
       "        [-4, -2,  0,  2],\n",
       "        [-6, -3,  0,  3]], dtype=int32))"
      ]
     },
     "execution_count": 10,
     "metadata": {},
     "output_type": "execute_result"
    }
   ],
   "source": [
    "T = 3 + 1\n",
    "b = jnp.arange(-(T-2), 1)[jnp.newaxis, :]\n",
    "# this should be ok for the operation?\n",
    "matrix = jnp.concatenate([a*b, a], axis=1)\n",
    "a, b, a*b, matrix "
   ]
  },
  {
   "cell_type": "code",
   "execution_count": 7,
   "metadata": {},
   "outputs": [
    {
     "name": "stdout",
     "output_type": "stream",
     "text": [
      "564 µs ± 13.5 µs per loop (mean ± std. dev. of 7 runs, 1,000 loops each)\n"
     ]
    }
   ],
   "source": [
    "@jax.jit\n",
    "def wkv(w, u, k, v):\n",
    "    T, C = k.shape\n",
    "    time_curve = jnp.arange(-T+2, 1)[jnp.newaxis, ...]\n",
    "    k, v = map(jnp.array, [[k], [v]])\n",
    "    w = -jnp.exp(w)\n",
    "    ek = jnp.exp(k.transpose((0, 2, 1)))\n",
    "    ekv = ek * v.transpose((0, 2, 1))\n",
    "    ew_time = jnp.expand_dims(jnp.exp(w), 1) * time_curve\n",
    "    time_w = jnp.concatenate([ew_time, jnp.expand_dims(u, 1)], axis=1)\n",
    "    w = jnp.expand_dims(jnp.exp(time_w), 1)\n",
    "\n",
    "    # print(time_w.shape, ew_time.shape, time_w, ew_time)\n",
    "    # print(ew_time.shape, time_w.shape, w.shape, ekv.shape, ek.shape)\n",
    "\n",
    "    def pad(x): return jnp.pad(x, [(0, 0), (0, 0), (T-1, 0)])\n",
    "\n",
    "    wkv = jax.lax.conv_general_dilated(pad(ekv), w, (1,), [(\n",
    "        0, 0)], dimension_numbers=('NCW', 'OIW', 'NCW'), feature_group_count=C)\n",
    "    wk = jax.lax.conv_general_dilated(pad(ek), w, (1,), [(\n",
    "        0, 0)], dimension_numbers=('NCW', 'OIW', 'NCW'), feature_group_count=C)\n",
    "    return (wkv / wk).transpose(0, 2, 1)[0].T\n",
    "\n",
    "%timeit wkv(jnp.array([1. , 2., 3.]), jnp.array([0.1, 0.2, 0.3]), jnp.array([[11, 22, 33], [44, 55, 66], [77, 88, 99]], dtype=jnp.float32), jnp.array([[11, 22, 33], [44, 55, 66], [77, 88, 99]], dtype=jnp.float32))"
   ]
  },
  {
   "cell_type": "code",
   "execution_count": 10,
   "metadata": {},
   "outputs": [
    {
     "name": "stdout",
     "output_type": "stream",
     "text": [
      "556 µs ± 14.9 µs per loop (mean ± std. dev. of 7 runs, 1,000 loops each)\n"
     ]
    }
   ],
   "source": [
    "%timeit model.WKV(jnp.array([1. , 2., 3.]), jnp.array([0.1, 0.2, 0.3]), jnp.array([[11, 22, 33], [44, 55, 66], [77, 88, 99]], dtype=jnp.float32), jnp.array([[11, 22, 33], [44, 55, 66], [77, 88, 99]], dtype=jnp.float32))"
   ]
  }
 ],
 "metadata": {
  "kernelspec": {
   "display_name": "venv",
   "language": "python",
   "name": "python3"
  },
  "language_info": {
   "codemirror_mode": {
    "name": "ipython",
    "version": 3
   },
   "file_extension": ".py",
   "mimetype": "text/x-python",
   "name": "python",
   "nbconvert_exporter": "python",
   "pygments_lexer": "ipython3",
   "version": "3.10.9"
  },
  "orig_nbformat": 4,
  "vscode": {
   "interpreter": {
    "hash": "108a77ccb50483248237e4437e3c4c648b04e6f2ff2fc5096b4500deb5d70dcc"
   }
  }
 },
 "nbformat": 4,
 "nbformat_minor": 2
}
