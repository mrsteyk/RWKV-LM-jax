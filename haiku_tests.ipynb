{
 "cells": [
  {
   "cell_type": "code",
   "execution_count": 1,
   "metadata": {},
   "outputs": [],
   "source": [
    "import os\n",
    "COMBINE_BYTES = 130*1024*1024\n",
    "os.environ[\"XLA_FLAGS\"] = f\"--xla_gpu_simplify_all_fp_conversions --xla_gpu_all_reduce_combine_threshold_bytes={COMBINE_BYTES}\"\n",
    "\n",
    "import haiku as hk\n",
    "import jax\n",
    "import jax.numpy as jnp\n",
    "import jmp\n",
    "import model"
   ]
  },
  {
   "cell_type": "code",
   "execution_count": 2,
   "metadata": {},
   "outputs": [],
   "source": [
    "# TODO: config dataclass\n",
    "NUM_LAYERS = 24\n",
    "\n",
    "def _forward(x):\n",
    "    a = model.RWKV(num_layers=NUM_LAYERS, vocab_size=50277, n_embd=1024, dim_att=1024, dim_ffn=1024*4)\n",
    "    return a(x)\n",
    "\n",
    "# policy = jmp.get_policy('p=bf16,c=bf16,o=bf16')\n",
    "# policy_wkv = jmp.get_policy('p=f32,c=f32,o=bf16')\n",
    "# hk.mixed_precision.set_policy(_forward, policy)\n",
    "# hk.mixed_precision.set_policy(model.RWKV, policy)\n",
    "# hk.mixed_precision.set_policy(model.WKV, policy_wkv)\n",
    "\n",
    "dummy_x = jnp.ones((1024), dtype=int)\n",
    "rng_key = jax.random.PRNGKey(42)"
   ]
  },
  {
   "cell_type": "code",
   "execution_count": 3,
   "metadata": {},
   "outputs": [],
   "source": [
    "from safetensors.numpy import load_file\n",
    "import torch\n",
    "\n",
    "#sd = load_file(\"../../RWKV-LM-deepspeed/RWKV-v4neo/RWKV-4-Pile-430M-20220808-8066.safetensors\")\n",
    "sd = torch.load(\"/home/mrsteyk/projects/RWKV-LM/RWKV-v4neo/RWKV-4-Pile-430M-20220808-8066.pth\", map_location='cpu')\n",
    "sd = {k: v.detach().cpu().float().numpy() for k,v in sd.items()}\n",
    "\n",
    "# I am mentally ill, you cannot :clown: upon me\n",
    "head = {\"w\": jax.device_put(sd[\"head.weight\"].T)}\n",
    "ln_out = {\"scale\": jax.device_put(sd[\"ln_out.weight\"]), \"offset\": jax.device_put(sd[\"ln_out.bias\"])}\n",
    "emb = {\"embeddings\": jax.device_put(sd[\"emb.weight\"])} # opt: put on jax.device(\"cpu\")[0]?\n",
    "ln0 = {\"scale\": jax.device_put(sd[\"blocks.0.ln0.weight\"]), \"offset\": jax.device_put(sd[\"blocks.0.ln0.bias\"])}\n",
    "\n",
    "# Remember, no ~~Russians~~:clown: (how long until this old joke gets old again, ngl kinda miss those days even though scene's dead)\n",
    "hsd = {\"rwkv/head\": head, \"rwkv/ln0\": ln0, \"rwkv/emb\": emb, \"rwkv/ln_out\": ln_out}\n",
    "for i in range(NUM_LAYERS):\n",
    "    hsd[f\"rwkv/block_{i}/ln1\"] = {\"scale\": jax.device_put(sd[f\"blocks.{i}.ln1.weight\"]), \"offset\": jax.device_put(sd[f\"blocks.{i}.ln1.bias\"])}\n",
    "    hsd[f\"rwkv/block_{i}/att\"] = {\n",
    "        \"time_first\": jax.device_put(sd[f\"blocks.{i}.att.time_first\"]),\n",
    "        \"time_decay\": jax.device_put(sd[f\"blocks.{i}.att.time_decay\"]),\n",
    "        \"time_mix_k\": jax.device_put(sd[f\"blocks.{i}.att.time_mix_k\"][0]),\n",
    "        \"time_mix_v\": jax.device_put(sd[f\"blocks.{i}.att.time_mix_v\"][0]),\n",
    "        \"time_mix_r\": jax.device_put(sd[f\"blocks.{i}.att.time_mix_r\"][0]),\n",
    "    }\n",
    "    hsd[f\"rwkv/block_{i}/att/key\"] = {\"w\": jax.device_put(sd[f\"blocks.{i}.att.key.weight\"].T)}\n",
    "    hsd[f\"rwkv/block_{i}/att/value\"] = {\"w\": jax.device_put(sd[f\"blocks.{i}.att.value.weight\"].T)}\n",
    "    hsd[f\"rwkv/block_{i}/att/receptance\"] = {\"w\": jax.device_put(sd[f\"blocks.{i}.att.receptance.weight\"].T)}\n",
    "    hsd[f\"rwkv/block_{i}/att/output\"] = {\"w\": jax.device_put(sd[f\"blocks.{i}.att.output.weight\"].T)}\n",
    "\n",
    "    hsd[f\"rwkv/block_{i}/ln2\"] = {\"scale\": jax.device_put(sd[f\"blocks.{i}.ln2.weight\"]), \"offset\": jax.device_put(sd[f\"blocks.{i}.ln2.bias\"])}\n",
    "    hsd[f\"rwkv/block_{i}/ffn\"] = {\n",
    "        \"time_mix_k\": jax.device_put(sd[f\"blocks.{i}.ffn.time_mix_k\"][0]),\n",
    "        \"time_mix_r\": jax.device_put(sd[f\"blocks.{i}.ffn.time_mix_r\"][0]),\n",
    "    }\n",
    "    hsd[f\"rwkv/block_{i}/ffn/key\"] = {\"w\": jax.device_put(sd[f\"blocks.{i}.ffn.key.weight\"].T)}\n",
    "    hsd[f\"rwkv/block_{i}/ffn/value\"] = {\"w\": jax.device_put(sd[f\"blocks.{i}.ffn.value.weight\"].T)}\n",
    "    hsd[f\"rwkv/block_{i}/ffn/receptance\"] = {\"w\": jax.device_put(sd[f\"blocks.{i}.ffn.receptance.weight\"].T)}\n",
    "\n",
    "# hsd = {k: {kk: vv.astype(jnp.float32) for kk,vv in v.items()} for k,v in hsd.items()}\n",
    "\n",
    "# print(sd[\"blocks.0.att.time_decay\"], sd[\"blocks.0.att.time_first\"])\n",
    "\n",
    "del head, ln_out, emb, ln0\n",
    "del sd"
   ]
  },
  {
   "cell_type": "code",
   "execution_count": 4,
   "metadata": {},
   "outputs": [
    {
     "data": {
      "text/plain": [
       "Array([ -4.387704 , -21.17562  ,  -3.3059247, ...,  -3.0609918,\n",
       "        -3.8596807,  -3.1924791], dtype=float32)"
      ]
     },
     "execution_count": 4,
     "metadata": {},
     "output_type": "execute_result"
    }
   ],
   "source": [
    "from jax.config import config\n",
    "config.update(\"jax_debug_nans\", True)\n",
    "config.update(\"jax_debug_infs\", True)\n",
    "config.update(\"jax_disable_jit\", True)\n",
    "\n",
    "a = hk.transform(_forward)\n",
    "\n",
    "# Array([ -4.301072 , -21.066956 ,  -3.2056859, ...,  -2.9424925,\n",
    "#         -3.7281127,  -3.1309748], dtype=float32)\n",
    "a.apply(hsd, rng_key, x=[0]*8)[-1]"
   ]
  },
  {
   "cell_type": "code",
   "execution_count": null,
   "metadata": {},
   "outputs": [],
   "source": [
    "from jax.config import config\n",
    "config.update(\"jax_debug_nans\", True)\n",
    "config.update(\"jax_debug_infs\", True)\n",
    "config.update(\"jax_disable_jit\", True)\n",
    "\n",
    "a = hk.transform(_forward)\n",
    "\n",
    "i = a.init(rng=rng_key, x=dummy_x)\n",
    "print(\"---\")\n",
    "i, a.apply(i, rng_key, x=dummy_x)\n",
    "# i"
   ]
  },
  {
   "cell_type": "code",
   "execution_count": 2,
   "metadata": {},
   "outputs": [
    {
     "data": {
      "text/plain": [
       "(Array([0, 1, 2, 3, 4], dtype=int32), Array([0, 1, 2, 3, 4], dtype=int32))"
      ]
     },
     "execution_count": 2,
     "metadata": {},
     "output_type": "execute_result"
    }
   ],
   "source": [
    "jnp.arange(5), jnp.array([0,1,2,3,4])"
   ]
  },
  {
   "cell_type": "code",
   "execution_count": 3,
   "metadata": {},
   "outputs": [
    {
     "data": {
      "text/plain": [
       "Array([[0, 1, 2, 3, 4]], dtype=int32)"
      ]
     },
     "execution_count": 3,
     "metadata": {},
     "output_type": "execute_result"
    }
   ],
   "source": [
    "# why does it need `,`\n",
    "jnp.arange(5)[jnp.newaxis,:]"
   ]
  },
  {
   "cell_type": "code",
   "execution_count": 4,
   "metadata": {},
   "outputs": [
    {
     "data": {
      "text/plain": [
       "Array([[1, 4],\n",
       "       [2, 5],\n",
       "       [3, 6]], dtype=int32)"
      ]
     },
     "execution_count": 4,
     "metadata": {},
     "output_type": "execute_result"
    }
   ],
   "source": [
    "jnp.array([[1, 2, 3], [4, 5, 6]]).T"
   ]
  },
  {
   "cell_type": "code",
   "execution_count": 9,
   "metadata": {},
   "outputs": [
    {
     "data": {
      "text/plain": [
       "(Array([[1],\n",
       "        [2],\n",
       "        [3]], dtype=int32),\n",
       " Array([[1],\n",
       "        [2],\n",
       "        [3]], dtype=int32),\n",
       " (3, 1))"
      ]
     },
     "execution_count": 9,
     "metadata": {},
     "output_type": "execute_result"
    }
   ],
   "source": [
    "# Time decay/first are monotonous arrays\n",
    "a = jnp.array([1,2,3])\n",
    "a = a[:,jnp.newaxis]\n",
    "aa = jnp.expand_dims(a, 1)\n",
    "aa, a, a.shape"
   ]
  },
  {
   "cell_type": "code",
   "execution_count": 10,
   "metadata": {},
   "outputs": [
    {
     "data": {
      "text/plain": [
       "(Array([[1],\n",
       "        [2],\n",
       "        [3]], dtype=int32),\n",
       " Array([[-2, -1,  0]], dtype=int32),\n",
       " Array([[-2, -1,  0],\n",
       "        [-4, -2,  0],\n",
       "        [-6, -3,  0]], dtype=int32),\n",
       " Array([[-2, -1,  0,  1],\n",
       "        [-4, -2,  0,  2],\n",
       "        [-6, -3,  0,  3]], dtype=int32))"
      ]
     },
     "execution_count": 10,
     "metadata": {},
     "output_type": "execute_result"
    }
   ],
   "source": [
    "T = 3 + 1\n",
    "b = jnp.arange(-(T-2), 1)[jnp.newaxis, :]\n",
    "# this should be ok for the operation?\n",
    "matrix = jnp.concatenate([a*b, a], axis=1)\n",
    "a, b, a*b, matrix "
   ]
  },
  {
   "cell_type": "code",
   "execution_count": 7,
   "metadata": {},
   "outputs": [
    {
     "name": "stdout",
     "output_type": "stream",
     "text": [
      "564 µs ± 13.5 µs per loop (mean ± std. dev. of 7 runs, 1,000 loops each)\n"
     ]
    }
   ],
   "source": [
    "@jax.jit\n",
    "def wkv(w, u, k, v):\n",
    "    T, C = k.shape\n",
    "    time_curve = jnp.arange(-T+2, 1)[jnp.newaxis, ...]\n",
    "    k, v = map(jnp.array, [[k], [v]])\n",
    "    w = -jnp.exp(w)\n",
    "    ek = jnp.exp(k.transpose((0, 2, 1)))\n",
    "    ekv = ek * v.transpose((0, 2, 1))\n",
    "    ew_time = jnp.expand_dims(jnp.exp(w), 1) * time_curve\n",
    "    time_w = jnp.concatenate([ew_time, jnp.expand_dims(u, 1)], axis=1)\n",
    "    w = jnp.expand_dims(jnp.exp(time_w), 1)\n",
    "\n",
    "    # print(time_w.shape, ew_time.shape, time_w, ew_time)\n",
    "    # print(ew_time.shape, time_w.shape, w.shape, ekv.shape, ek.shape)\n",
    "\n",
    "    def pad(x): return jnp.pad(x, [(0, 0), (0, 0), (T-1, 0)])\n",
    "\n",
    "    wkv = jax.lax.conv_general_dilated(pad(ekv), w, (1,), [(\n",
    "        0, 0)], dimension_numbers=('NCW', 'OIW', 'NCW'), feature_group_count=C)\n",
    "    wk = jax.lax.conv_general_dilated(pad(ek), w, (1,), [(\n",
    "        0, 0)], dimension_numbers=('NCW', 'OIW', 'NCW'), feature_group_count=C)\n",
    "    return (wkv / wk).transpose(0, 2, 1)[0].T\n",
    "\n",
    "%timeit wkv(jnp.array([1. , 2., 3.]), jnp.array([0.1, 0.2, 0.3]), jnp.array([[11, 22, 33], [44, 55, 66], [77, 88, 99]], dtype=jnp.float32), jnp.array([[11, 22, 33], [44, 55, 66], [77, 88, 99]], dtype=jnp.float32))"
   ]
  },
  {
   "cell_type": "code",
   "execution_count": 10,
   "metadata": {},
   "outputs": [
    {
     "name": "stdout",
     "output_type": "stream",
     "text": [
      "556 µs ± 14.9 µs per loop (mean ± std. dev. of 7 runs, 1,000 loops each)\n"
     ]
    }
   ],
   "source": [
    "%timeit model.WKV(jnp.array([1. , 2., 3.]), jnp.array([0.1, 0.2, 0.3]), jnp.array([[11, 22, 33], [44, 55, 66], [77, 88, 99]], dtype=jnp.float32), jnp.array([[11, 22, 33], [44, 55, 66], [77, 88, 99]], dtype=jnp.float32))"
   ]
  }
 ],
 "metadata": {
  "kernelspec": {
   "display_name": "venv",
   "language": "python",
   "name": "python3"
  },
  "language_info": {
   "codemirror_mode": {
    "name": "ipython",
    "version": 3
   },
   "file_extension": ".py",
   "mimetype": "text/x-python",
   "name": "python",
   "nbconvert_exporter": "python",
   "pygments_lexer": "ipython3",
   "version": "3.10.9"
  },
  "orig_nbformat": 4,
  "vscode": {
   "interpreter": {
    "hash": "108a77ccb50483248237e4437e3c4c648b04e6f2ff2fc5096b4500deb5d70dcc"
   }
  }
 },
 "nbformat": 4,
 "nbformat_minor": 2
}
