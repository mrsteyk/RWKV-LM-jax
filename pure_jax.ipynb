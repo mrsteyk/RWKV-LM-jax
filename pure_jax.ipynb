{
 "cells": [
  {
   "cell_type": "code",
   "execution_count": 1,
   "metadata": {},
   "outputs": [],
   "source": [
    "import os\n",
    "COMBINE_BYTES = 130*1024*1024 // 2\n",
    "os.environ[\"XLA_FLAGS\"] = f\"--xla_gpu_simplify_all_fp_conversions --xla_gpu_all_reduce_combine_threshold_bytes={COMBINE_BYTES}\""
   ]
  },
  {
   "cell_type": "code",
   "execution_count": 2,
   "metadata": {},
   "outputs": [
    {
     "data": {
      "text/plain": [
       "dict_keys(['blocks.0.att.key.weight', 'blocks.0.att.output.weight', 'blocks.0.att.receptance.weight', 'blocks.0.att.time_decay', 'blocks.0.att.time_first', 'blocks.0.att.time_mix_k', 'blocks.0.att.time_mix_r', 'blocks.0.att.time_mix_v', 'blocks.0.att.value.weight', 'blocks.0.ffn.key.weight', 'blocks.0.ffn.receptance.weight', 'blocks.0.ffn.time_mix_k', 'blocks.0.ffn.time_mix_r', 'blocks.0.ffn.value.weight', 'blocks.0.ln0.bias', 'blocks.0.ln0.weight', 'blocks.0.ln1.bias', 'blocks.0.ln1.weight', 'blocks.0.ln2.bias', 'blocks.0.ln2.weight', 'blocks.1.att.key.weight', 'blocks.1.att.output.weight', 'blocks.1.att.receptance.weight', 'blocks.1.att.time_decay', 'blocks.1.att.time_first', 'blocks.1.att.time_mix_k', 'blocks.1.att.time_mix_r', 'blocks.1.att.time_mix_v', 'blocks.1.att.value.weight', 'blocks.1.ffn.key.weight', 'blocks.1.ffn.receptance.weight', 'blocks.1.ffn.time_mix_k', 'blocks.1.ffn.time_mix_r', 'blocks.1.ffn.value.weight', 'blocks.1.ln1.bias', 'blocks.1.ln1.weight', 'blocks.1.ln2.bias', 'blocks.1.ln2.weight', 'blocks.10.att.key.weight', 'blocks.10.att.output.weight', 'blocks.10.att.receptance.weight', 'blocks.10.att.time_decay', 'blocks.10.att.time_first', 'blocks.10.att.time_mix_k', 'blocks.10.att.time_mix_r', 'blocks.10.att.time_mix_v', 'blocks.10.att.value.weight', 'blocks.10.ffn.key.weight', 'blocks.10.ffn.receptance.weight', 'blocks.10.ffn.time_mix_k', 'blocks.10.ffn.time_mix_r', 'blocks.10.ffn.value.weight', 'blocks.10.ln1.bias', 'blocks.10.ln1.weight', 'blocks.10.ln2.bias', 'blocks.10.ln2.weight', 'blocks.11.att.key.weight', 'blocks.11.att.output.weight', 'blocks.11.att.receptance.weight', 'blocks.11.att.time_decay', 'blocks.11.att.time_first', 'blocks.11.att.time_mix_k', 'blocks.11.att.time_mix_r', 'blocks.11.att.time_mix_v', 'blocks.11.att.value.weight', 'blocks.11.ffn.key.weight', 'blocks.11.ffn.receptance.weight', 'blocks.11.ffn.time_mix_k', 'blocks.11.ffn.time_mix_r', 'blocks.11.ffn.value.weight', 'blocks.11.ln1.bias', 'blocks.11.ln1.weight', 'blocks.11.ln2.bias', 'blocks.11.ln2.weight', 'blocks.12.att.key.weight', 'blocks.12.att.output.weight', 'blocks.12.att.receptance.weight', 'blocks.12.att.time_decay', 'blocks.12.att.time_first', 'blocks.12.att.time_mix_k', 'blocks.12.att.time_mix_r', 'blocks.12.att.time_mix_v', 'blocks.12.att.value.weight', 'blocks.12.ffn.key.weight', 'blocks.12.ffn.receptance.weight', 'blocks.12.ffn.time_mix_k', 'blocks.12.ffn.time_mix_r', 'blocks.12.ffn.value.weight', 'blocks.12.ln1.bias', 'blocks.12.ln1.weight', 'blocks.12.ln2.bias', 'blocks.12.ln2.weight', 'blocks.13.att.key.weight', 'blocks.13.att.output.weight', 'blocks.13.att.receptance.weight', 'blocks.13.att.time_decay', 'blocks.13.att.time_first', 'blocks.13.att.time_mix_k', 'blocks.13.att.time_mix_r', 'blocks.13.att.time_mix_v', 'blocks.13.att.value.weight', 'blocks.13.ffn.key.weight', 'blocks.13.ffn.receptance.weight', 'blocks.13.ffn.time_mix_k', 'blocks.13.ffn.time_mix_r', 'blocks.13.ffn.value.weight', 'blocks.13.ln1.bias', 'blocks.13.ln1.weight', 'blocks.13.ln2.bias', 'blocks.13.ln2.weight', 'blocks.14.att.key.weight', 'blocks.14.att.output.weight', 'blocks.14.att.receptance.weight', 'blocks.14.att.time_decay', 'blocks.14.att.time_first', 'blocks.14.att.time_mix_k', 'blocks.14.att.time_mix_r', 'blocks.14.att.time_mix_v', 'blocks.14.att.value.weight', 'blocks.14.ffn.key.weight', 'blocks.14.ffn.receptance.weight', 'blocks.14.ffn.time_mix_k', 'blocks.14.ffn.time_mix_r', 'blocks.14.ffn.value.weight', 'blocks.14.ln1.bias', 'blocks.14.ln1.weight', 'blocks.14.ln2.bias', 'blocks.14.ln2.weight', 'blocks.15.att.key.weight', 'blocks.15.att.output.weight', 'blocks.15.att.receptance.weight', 'blocks.15.att.time_decay', 'blocks.15.att.time_first', 'blocks.15.att.time_mix_k', 'blocks.15.att.time_mix_r', 'blocks.15.att.time_mix_v', 'blocks.15.att.value.weight', 'blocks.15.ffn.key.weight', 'blocks.15.ffn.receptance.weight', 'blocks.15.ffn.time_mix_k', 'blocks.15.ffn.time_mix_r', 'blocks.15.ffn.value.weight', 'blocks.15.ln1.bias', 'blocks.15.ln1.weight', 'blocks.15.ln2.bias', 'blocks.15.ln2.weight', 'blocks.16.att.key.weight', 'blocks.16.att.output.weight', 'blocks.16.att.receptance.weight', 'blocks.16.att.time_decay', 'blocks.16.att.time_first', 'blocks.16.att.time_mix_k', 'blocks.16.att.time_mix_r', 'blocks.16.att.time_mix_v', 'blocks.16.att.value.weight', 'blocks.16.ffn.key.weight', 'blocks.16.ffn.receptance.weight', 'blocks.16.ffn.time_mix_k', 'blocks.16.ffn.time_mix_r', 'blocks.16.ffn.value.weight', 'blocks.16.ln1.bias', 'blocks.16.ln1.weight', 'blocks.16.ln2.bias', 'blocks.16.ln2.weight', 'blocks.17.att.key.weight', 'blocks.17.att.output.weight', 'blocks.17.att.receptance.weight', 'blocks.17.att.time_decay', 'blocks.17.att.time_first', 'blocks.17.att.time_mix_k', 'blocks.17.att.time_mix_r', 'blocks.17.att.time_mix_v', 'blocks.17.att.value.weight', 'blocks.17.ffn.key.weight', 'blocks.17.ffn.receptance.weight', 'blocks.17.ffn.time_mix_k', 'blocks.17.ffn.time_mix_r', 'blocks.17.ffn.value.weight', 'blocks.17.ln1.bias', 'blocks.17.ln1.weight', 'blocks.17.ln2.bias', 'blocks.17.ln2.weight', 'blocks.18.att.key.weight', 'blocks.18.att.output.weight', 'blocks.18.att.receptance.weight', 'blocks.18.att.time_decay', 'blocks.18.att.time_first', 'blocks.18.att.time_mix_k', 'blocks.18.att.time_mix_r', 'blocks.18.att.time_mix_v', 'blocks.18.att.value.weight', 'blocks.18.ffn.key.weight', 'blocks.18.ffn.receptance.weight', 'blocks.18.ffn.time_mix_k', 'blocks.18.ffn.time_mix_r', 'blocks.18.ffn.value.weight', 'blocks.18.ln1.bias', 'blocks.18.ln1.weight', 'blocks.18.ln2.bias', 'blocks.18.ln2.weight', 'blocks.19.att.key.weight', 'blocks.19.att.output.weight', 'blocks.19.att.receptance.weight', 'blocks.19.att.time_decay', 'blocks.19.att.time_first', 'blocks.19.att.time_mix_k', 'blocks.19.att.time_mix_r', 'blocks.19.att.time_mix_v', 'blocks.19.att.value.weight', 'blocks.19.ffn.key.weight', 'blocks.19.ffn.receptance.weight', 'blocks.19.ffn.time_mix_k', 'blocks.19.ffn.time_mix_r', 'blocks.19.ffn.value.weight', 'blocks.19.ln1.bias', 'blocks.19.ln1.weight', 'blocks.19.ln2.bias', 'blocks.19.ln2.weight', 'blocks.2.att.key.weight', 'blocks.2.att.output.weight', 'blocks.2.att.receptance.weight', 'blocks.2.att.time_decay', 'blocks.2.att.time_first', 'blocks.2.att.time_mix_k', 'blocks.2.att.time_mix_r', 'blocks.2.att.time_mix_v', 'blocks.2.att.value.weight', 'blocks.2.ffn.key.weight', 'blocks.2.ffn.receptance.weight', 'blocks.2.ffn.time_mix_k', 'blocks.2.ffn.time_mix_r', 'blocks.2.ffn.value.weight', 'blocks.2.ln1.bias', 'blocks.2.ln1.weight', 'blocks.2.ln2.bias', 'blocks.2.ln2.weight', 'blocks.20.att.key.weight', 'blocks.20.att.output.weight', 'blocks.20.att.receptance.weight', 'blocks.20.att.time_decay', 'blocks.20.att.time_first', 'blocks.20.att.time_mix_k', 'blocks.20.att.time_mix_r', 'blocks.20.att.time_mix_v', 'blocks.20.att.value.weight', 'blocks.20.ffn.key.weight', 'blocks.20.ffn.receptance.weight', 'blocks.20.ffn.time_mix_k', 'blocks.20.ffn.time_mix_r', 'blocks.20.ffn.value.weight', 'blocks.20.ln1.bias', 'blocks.20.ln1.weight', 'blocks.20.ln2.bias', 'blocks.20.ln2.weight', 'blocks.21.att.key.weight', 'blocks.21.att.output.weight', 'blocks.21.att.receptance.weight', 'blocks.21.att.time_decay', 'blocks.21.att.time_first', 'blocks.21.att.time_mix_k', 'blocks.21.att.time_mix_r', 'blocks.21.att.time_mix_v', 'blocks.21.att.value.weight', 'blocks.21.ffn.key.weight', 'blocks.21.ffn.receptance.weight', 'blocks.21.ffn.time_mix_k', 'blocks.21.ffn.time_mix_r', 'blocks.21.ffn.value.weight', 'blocks.21.ln1.bias', 'blocks.21.ln1.weight', 'blocks.21.ln2.bias', 'blocks.21.ln2.weight', 'blocks.22.att.key.weight', 'blocks.22.att.output.weight', 'blocks.22.att.receptance.weight', 'blocks.22.att.time_decay', 'blocks.22.att.time_first', 'blocks.22.att.time_mix_k', 'blocks.22.att.time_mix_r', 'blocks.22.att.time_mix_v', 'blocks.22.att.value.weight', 'blocks.22.ffn.key.weight', 'blocks.22.ffn.receptance.weight', 'blocks.22.ffn.time_mix_k', 'blocks.22.ffn.time_mix_r', 'blocks.22.ffn.value.weight', 'blocks.22.ln1.bias', 'blocks.22.ln1.weight', 'blocks.22.ln2.bias', 'blocks.22.ln2.weight', 'blocks.23.att.key.weight', 'blocks.23.att.output.weight', 'blocks.23.att.receptance.weight', 'blocks.23.att.time_decay', 'blocks.23.att.time_first', 'blocks.23.att.time_mix_k', 'blocks.23.att.time_mix_r', 'blocks.23.att.time_mix_v', 'blocks.23.att.value.weight', 'blocks.23.ffn.key.weight', 'blocks.23.ffn.receptance.weight', 'blocks.23.ffn.time_mix_k', 'blocks.23.ffn.time_mix_r', 'blocks.23.ffn.value.weight', 'blocks.23.ln1.bias', 'blocks.23.ln1.weight', 'blocks.23.ln2.bias', 'blocks.23.ln2.weight', 'blocks.3.att.key.weight', 'blocks.3.att.output.weight', 'blocks.3.att.receptance.weight', 'blocks.3.att.time_decay', 'blocks.3.att.time_first', 'blocks.3.att.time_mix_k', 'blocks.3.att.time_mix_r', 'blocks.3.att.time_mix_v', 'blocks.3.att.value.weight', 'blocks.3.ffn.key.weight', 'blocks.3.ffn.receptance.weight', 'blocks.3.ffn.time_mix_k', 'blocks.3.ffn.time_mix_r', 'blocks.3.ffn.value.weight', 'blocks.3.ln1.bias', 'blocks.3.ln1.weight', 'blocks.3.ln2.bias', 'blocks.3.ln2.weight', 'blocks.4.att.key.weight', 'blocks.4.att.output.weight', 'blocks.4.att.receptance.weight', 'blocks.4.att.time_decay', 'blocks.4.att.time_first', 'blocks.4.att.time_mix_k', 'blocks.4.att.time_mix_r', 'blocks.4.att.time_mix_v', 'blocks.4.att.value.weight', 'blocks.4.ffn.key.weight', 'blocks.4.ffn.receptance.weight', 'blocks.4.ffn.time_mix_k', 'blocks.4.ffn.time_mix_r', 'blocks.4.ffn.value.weight', 'blocks.4.ln1.bias', 'blocks.4.ln1.weight', 'blocks.4.ln2.bias', 'blocks.4.ln2.weight', 'blocks.5.att.key.weight', 'blocks.5.att.output.weight', 'blocks.5.att.receptance.weight', 'blocks.5.att.time_decay', 'blocks.5.att.time_first', 'blocks.5.att.time_mix_k', 'blocks.5.att.time_mix_r', 'blocks.5.att.time_mix_v', 'blocks.5.att.value.weight', 'blocks.5.ffn.key.weight', 'blocks.5.ffn.receptance.weight', 'blocks.5.ffn.time_mix_k', 'blocks.5.ffn.time_mix_r', 'blocks.5.ffn.value.weight', 'blocks.5.ln1.bias', 'blocks.5.ln1.weight', 'blocks.5.ln2.bias', 'blocks.5.ln2.weight', 'blocks.6.att.key.weight', 'blocks.6.att.output.weight', 'blocks.6.att.receptance.weight', 'blocks.6.att.time_decay', 'blocks.6.att.time_first', 'blocks.6.att.time_mix_k', 'blocks.6.att.time_mix_r', 'blocks.6.att.time_mix_v', 'blocks.6.att.value.weight', 'blocks.6.ffn.key.weight', 'blocks.6.ffn.receptance.weight', 'blocks.6.ffn.time_mix_k', 'blocks.6.ffn.time_mix_r', 'blocks.6.ffn.value.weight', 'blocks.6.ln1.bias', 'blocks.6.ln1.weight', 'blocks.6.ln2.bias', 'blocks.6.ln2.weight', 'blocks.7.att.key.weight', 'blocks.7.att.output.weight', 'blocks.7.att.receptance.weight', 'blocks.7.att.time_decay', 'blocks.7.att.time_first', 'blocks.7.att.time_mix_k', 'blocks.7.att.time_mix_r', 'blocks.7.att.time_mix_v', 'blocks.7.att.value.weight', 'blocks.7.ffn.key.weight', 'blocks.7.ffn.receptance.weight', 'blocks.7.ffn.time_mix_k', 'blocks.7.ffn.time_mix_r', 'blocks.7.ffn.value.weight', 'blocks.7.ln1.bias', 'blocks.7.ln1.weight', 'blocks.7.ln2.bias', 'blocks.7.ln2.weight', 'blocks.8.att.key.weight', 'blocks.8.att.output.weight', 'blocks.8.att.receptance.weight', 'blocks.8.att.time_decay', 'blocks.8.att.time_first', 'blocks.8.att.time_mix_k', 'blocks.8.att.time_mix_r', 'blocks.8.att.time_mix_v', 'blocks.8.att.value.weight', 'blocks.8.ffn.key.weight', 'blocks.8.ffn.receptance.weight', 'blocks.8.ffn.time_mix_k', 'blocks.8.ffn.time_mix_r', 'blocks.8.ffn.value.weight', 'blocks.8.ln1.bias', 'blocks.8.ln1.weight', 'blocks.8.ln2.bias', 'blocks.8.ln2.weight', 'blocks.9.att.key.weight', 'blocks.9.att.output.weight', 'blocks.9.att.receptance.weight', 'blocks.9.att.time_decay', 'blocks.9.att.time_first', 'blocks.9.att.time_mix_k', 'blocks.9.att.time_mix_r', 'blocks.9.att.time_mix_v', 'blocks.9.att.value.weight', 'blocks.9.ffn.key.weight', 'blocks.9.ffn.receptance.weight', 'blocks.9.ffn.time_mix_k', 'blocks.9.ffn.time_mix_r', 'blocks.9.ffn.value.weight', 'blocks.9.ln1.bias', 'blocks.9.ln1.weight', 'blocks.9.ln2.bias', 'blocks.9.ln2.weight', 'emb.weight', 'head.weight', 'ln_out.bias', 'ln_out.weight'])"
      ]
     },
     "execution_count": 2,
     "metadata": {},
     "output_type": "execute_result"
    }
   ],
   "source": [
    "import jax\n",
    "import jax.numpy as jnp\n",
    "from safetensors.numpy import load_file\n",
    "\n",
    "rwkv = load_file(\"../../RWKV-LM-deepspeed/RWKV-v4neo/RWKV-4-Pile-430M-20220808-8066.safetensors\")\n",
    "\n",
    "rwkv.keys()"
   ]
  },
  {
   "cell_type": "code",
   "execution_count": 3,
   "metadata": {},
   "outputs": [
    {
     "name": "stdout",
     "output_type": "stream",
     "text": [
      "(1024, 1024) (1024,)\n",
      "24\n"
     ]
    }
   ],
   "source": [
    "print(rwkv[\"blocks.0.att.receptance.weight\"].shape, rwkv[\"blocks.0.att.time_decay\"].shape)\n",
    "\n",
    "BLK = \"blocks.\"\n",
    "blks = 1\n",
    "for k in rwkv.keys():\n",
    "    if k.startswith(BLK):\n",
    "        blks = max(int(k.split('.')[1]) + 1, blks)\n",
    "print(blks)\n"
   ]
  },
  {
   "cell_type": "code",
   "execution_count": 13,
   "metadata": {},
   "outputs": [],
   "source": [
    "# @jax.jit\n",
    "def AT(x, state, i: int, time_mix_k, time_mix_v, time_mix_r, key, output, receptance, time_decay, time_first, value):\n",
    "    xk = x * time_mix_k + state[5*i+1].astype(time_mix_k.dtype) * (1 - time_mix_k)\n",
    "    xv = x * time_mix_v + state[5*i+1].astype(time_mix_v.dtype) * (1 - time_mix_v)\n",
    "    xr = x * time_mix_r + state[5*i+1].astype(time_mix_r.dtype) * (1 - time_mix_r)\n",
    "    state = state.at[5*i+1].set(x)\n",
    "\n",
    "    r = jax.nn.sigmoid(xr @ receptance)\n",
    "    k = (xk @ key).astype(jnp.float32)\n",
    "    v = (xv @ value).astype(jnp.float32)\n",
    "\n",
    "    aa = state[5*i+2]\n",
    "    bb = state[5*i+3]\n",
    "    pp = state[5*i+4]\n",
    "    ww = time_first + k\n",
    "    p = jnp.maximum(pp, ww)\n",
    "    e1 = jnp.exp(pp - p)\n",
    "    e2 = jnp.exp(ww - p)\n",
    "    a = e1 * aa + e2 * v\n",
    "    b = e1 * bb + e2\n",
    "    ww = pp + time_decay\n",
    "    p = jnp.maximum(ww, k)\n",
    "    e1 = jnp.exp(ww - p)\n",
    "    e2 = jnp.exp(k - p)\n",
    "    state = state.at[5*i+2].set(e1 * aa + e2 * v)\n",
    "    state = state.at[5*i+3].set(e1 * bb + e2)\n",
    "    state = state.at[5*i+4].set(p)\n",
    "\n",
    "    wkv = (a / b).astype(key.dtype)\n",
    "    return (r * wkv) @ output, state\n",
    "\n",
    "class Attention():\n",
    "    def __init__(self, sd, i, dtype=jnp.float32):\n",
    "        self.dtype = dtype\n",
    "        self.key = jax.device_put(jnp.transpose(sd[f\"blocks.{i}.att.key.weight\"].astype(dtype)))\n",
    "        self.output = jax.device_put(jnp.transpose(sd[f\"blocks.{i}.att.output.weight\"].astype(dtype) / (2 ** (i // 6))))\n",
    "        self.receptance = jax.device_put(jnp.transpose(sd[f\"blocks.{i}.att.receptance.weight\"].astype(dtype)))\n",
    "        # f32 only\n",
    "        self.time_decay = -jnp.exp(jax.device_put(sd[f\"blocks.{i}.att.time_decay\"].astype(jnp.float32)))\n",
    "        self.time_first = jax.device_put(sd[f\"blocks.{i}.att.time_first\"].astype(jnp.float32))\n",
    "        # ---\n",
    "        self.time_mix_k = jax.device_put(sd[f\"blocks.{i}.att.time_mix_k\"].astype(dtype).squeeze())\n",
    "        self.time_mix_v = jax.device_put(sd[f\"blocks.{i}.att.time_mix_v\"].astype(dtype).squeeze())\n",
    "        self.time_mix_r = jax.device_put(sd[f\"blocks.{i}.att.time_mix_r\"].astype(dtype).squeeze())\n",
    "        self.value = jax.device_put(jnp.transpose(sd[f\"blocks.{i}.att.value.weight\"].astype(dtype)))"
   ]
  },
  {
   "cell_type": "code",
   "execution_count": 11,
   "metadata": {},
   "outputs": [
    {
     "ename": "AttributeError",
     "evalue": "'numpy.ndarray' object has no attribute 't'",
     "output_type": "error",
     "traceback": [
      "\u001b[0;31m---------------------------------------------------------------------------\u001b[0m",
      "\u001b[0;31mAttributeError\u001b[0m                            Traceback (most recent call last)",
      "Cell \u001b[0;32mIn[11], line 1\u001b[0m\n\u001b[0;32m----> 1\u001b[0m att \u001b[39m=\u001b[39m Attention(rwkv, \u001b[39m0\u001b[39;49m)\n\u001b[1;32m      2\u001b[0m key \u001b[39m=\u001b[39m jax\u001b[39m.\u001b[39mrandom\u001b[39m.\u001b[39mPRNGKey(\u001b[39m0\u001b[39m)\n\u001b[1;32m      3\u001b[0m x \u001b[39m=\u001b[39m jax\u001b[39m.\u001b[39mrandom\u001b[39m.\u001b[39mnormal(key, (\u001b[39m1024\u001b[39m,), dtype\u001b[39m=\u001b[39matt\u001b[39m.\u001b[39mdtype)\n",
      "Cell \u001b[0;32mIn[10], line 35\u001b[0m, in \u001b[0;36mAttention.__init__\u001b[0;34m(self, sd, i, dtype)\u001b[0m\n\u001b[1;32m     33\u001b[0m \u001b[39mdef\u001b[39;00m \u001b[39m__init__\u001b[39m(\u001b[39mself\u001b[39m, sd, i, dtype\u001b[39m=\u001b[39mjnp\u001b[39m.\u001b[39mfloat32):\n\u001b[1;32m     34\u001b[0m     \u001b[39mself\u001b[39m\u001b[39m.\u001b[39mdtype \u001b[39m=\u001b[39m dtype\n\u001b[0;32m---> 35\u001b[0m     \u001b[39mself\u001b[39m\u001b[39m.\u001b[39mkey \u001b[39m=\u001b[39m jax\u001b[39m.\u001b[39mdevice_put(sd[\u001b[39mf\u001b[39;49m\u001b[39m\"\u001b[39;49m\u001b[39mblocks.\u001b[39;49m\u001b[39m{\u001b[39;49;00mi\u001b[39m}\u001b[39;49;00m\u001b[39m.att.key.weight\u001b[39;49m\u001b[39m\"\u001b[39;49m]\u001b[39m.\u001b[39;49mastype(dtype)\u001b[39m.\u001b[39;49mt())\n\u001b[1;32m     36\u001b[0m     \u001b[39mself\u001b[39m\u001b[39m.\u001b[39moutput \u001b[39m=\u001b[39m jax\u001b[39m.\u001b[39mdevice_put(sd[\u001b[39mf\u001b[39m\u001b[39m\"\u001b[39m\u001b[39mblocks.\u001b[39m\u001b[39m{\u001b[39;00mi\u001b[39m}\u001b[39;00m\u001b[39m.att.output.weight\u001b[39m\u001b[39m\"\u001b[39m]\u001b[39m.\u001b[39mastype(dtype)) \u001b[39m/\u001b[39m (\u001b[39m2\u001b[39m \u001b[39m*\u001b[39m\u001b[39m*\u001b[39m (i \u001b[39m/\u001b[39m\u001b[39m/\u001b[39m \u001b[39m6\u001b[39m))\u001b[39m.\u001b[39mt()\n\u001b[1;32m     37\u001b[0m     \u001b[39mself\u001b[39m\u001b[39m.\u001b[39mreceptance \u001b[39m=\u001b[39m jax\u001b[39m.\u001b[39mdevice_put(sd[\u001b[39mf\u001b[39m\u001b[39m\"\u001b[39m\u001b[39mblocks.\u001b[39m\u001b[39m{\u001b[39;00mi\u001b[39m}\u001b[39;00m\u001b[39m.att.receptance.weight\u001b[39m\u001b[39m\"\u001b[39m]\u001b[39m.\u001b[39mastype(dtype)\u001b[39m.\u001b[39mt())\n",
      "\u001b[0;31mAttributeError\u001b[0m: 'numpy.ndarray' object has no attribute 't'"
     ]
    }
   ],
   "source": [
    "att = Attention(rwkv, 0)\n",
    "key = jax.random.PRNGKey(0)\n",
    "x = jax.random.normal(key, (1024,), dtype=att.dtype)\n",
    "state = jnp.array([0.0]*5*1024, dtype=jnp.float32).reshape((5,1024))\n",
    "# AT(x, state, 0, att.time_mix_k, att.time_mix_v, att.time_mix_r, att.key, att.output, att.receptance, att.time_decay, att.time_first, att.value)\n",
    "%timeit AT(x, state, 0, att.time_mix_k, att.time_mix_v, att.time_mix_r, att.key, att.output, att.receptance, att.time_decay, att.time_first, att.value)"
   ]
  },
  {
   "cell_type": "code",
   "execution_count": 12,
   "metadata": {},
   "outputs": [],
   "source": [
    "# @jax.jit\n",
    "def FFN(x, state, i: int, key, receptance, time_mix_k, time_mix_r, value):\n",
    "    xk = x * time_mix_k + state[5*i+0] * (1 - time_mix_k)\n",
    "    xr = x * time_mix_r + state[5*i+0] * (1 - time_mix_r)\n",
    "    state = state.at[5*i+0].set(x)\n",
    "\n",
    "    r = jax.nn.sigmoid(xr @ receptance)\n",
    "    k = jnp.square(jax.nn.relu(xk @ key))\n",
    "    print(i, k, value)\n",
    "    kv = k @ value\n",
    "\n",
    "    return r * kv, state\n",
    "\n",
    "class Ffn():\n",
    "    def __init__(self, sd, i, dtype=jnp.float32):\n",
    "        self.dtype = dtype\n",
    "        self.key = jax.device_put(jnp.transpose(sd[f\"blocks.{i}.ffn.key.weight\"].astype(dtype)))\n",
    "        self.receptance = jax.device_put(jnp.transpose(sd[f\"blocks.{i}.ffn.receptance.weight\"].astype(dtype)))\n",
    "        self.time_mix_k = jax.device_put(sd[f\"blocks.{i}.ffn.time_mix_k\"].astype(dtype).squeeze())\n",
    "        self.time_mix_r = jax.device_put(sd[f\"blocks.{i}.ffn.time_mix_r\"].astype(dtype).squeeze())\n",
    "        self.value = jax.device_put(jnp.transpose(sd[f\"blocks.{i}.ffn.value.weight\"].astype(dtype)) / (2 ** (i // 6)))\n",
    "        # print(i, self.value)"
   ]
  },
  {
   "cell_type": "code",
   "execution_count": 6,
   "metadata": {},
   "outputs": [
    {
     "ename": "NameError",
     "evalue": "name 'att' is not defined",
     "output_type": "error",
     "traceback": [
      "\u001b[0;31m---------------------------------------------------------------------------\u001b[0m",
      "\u001b[0;31mNameError\u001b[0m                                 Traceback (most recent call last)",
      "Cell \u001b[0;32mIn[6], line 3\u001b[0m\n\u001b[1;32m      1\u001b[0m ffn \u001b[39m=\u001b[39m Ffn(rwkv, \u001b[39m0\u001b[39m)\n\u001b[1;32m      2\u001b[0m key \u001b[39m=\u001b[39m jax\u001b[39m.\u001b[39mrandom\u001b[39m.\u001b[39mPRNGKey(\u001b[39m0\u001b[39m)\n\u001b[0;32m----> 3\u001b[0m x \u001b[39m=\u001b[39m jax\u001b[39m.\u001b[39mrandom\u001b[39m.\u001b[39mnormal(key, (\u001b[39m1024\u001b[39m,), dtype\u001b[39m=\u001b[39matt\u001b[39m.\u001b[39mdtype)\n\u001b[1;32m      4\u001b[0m state \u001b[39m=\u001b[39m jnp\u001b[39m.\u001b[39marray([\u001b[39m0.0\u001b[39m]\u001b[39m*\u001b[39m\u001b[39m5\u001b[39m\u001b[39m*\u001b[39m\u001b[39m1024\u001b[39m, dtype\u001b[39m=\u001b[39mjnp\u001b[39m.\u001b[39mfloat32)\u001b[39m.\u001b[39mreshape((\u001b[39m5\u001b[39m,\u001b[39m1024\u001b[39m))\n\u001b[1;32m      5\u001b[0m \u001b[39m# FFN(x, state, 0, ffn.key, ffn.receptance, ffn.time_mix_k, ffn.time_mix_r, value)\u001b[39;00m\n",
      "\u001b[0;31mNameError\u001b[0m: name 'att' is not defined"
     ]
    }
   ],
   "source": [
    "ffn = Ffn(rwkv, 0)\n",
    "key = jax.random.PRNGKey(0)\n",
    "x = jax.random.normal(key, (1024,), dtype=att.dtype)\n",
    "state = jnp.array([0.0]*5*1024, dtype=jnp.float32).reshape((5,1024))\n",
    "# FFN(x, state, 0, ffn.key, ffn.receptance, ffn.time_mix_k, ffn.time_mix_r, value)\n",
    "%timeit FFN(x, state, 0, ffn.key, ffn.receptance, ffn.time_mix_k, ffn.time_mix_r, ffn.value)"
   ]
  },
  {
   "cell_type": "code",
   "execution_count": 6,
   "metadata": {},
   "outputs": [],
   "source": [
    "# @jax.jit\n",
    "def LN(x, w, b):\n",
    "    mean = jnp.mean(x)\n",
    "    v = jnp.var(x)\n",
    "    o = x - mean\n",
    "    i = w * jax.lax.rsqrt(v + 1e-5)\n",
    "    return o * i + b\n",
    "\n",
    "class Ln():\n",
    "    def __init__(self, sd, n, dtype=jnp.float32):\n",
    "        self.dtype = dtype\n",
    "        self.weight = jax.device_put(sd[f\"{n}.weight\"].astype(dtype))\n",
    "        self.bias = jax.device_put(sd[f\"{n}.bias\"].astype(dtype))"
   ]
  },
  {
   "cell_type": "code",
   "execution_count": 7,
   "metadata": {},
   "outputs": [],
   "source": [
    "class Block():\n",
    "    def __init__(self, sd, i, dtype=jnp.float32):\n",
    "        self.dtype = dtype\n",
    "        self.ln1 = Ln(sd, f\"blocks.{i}.ln1\", dtype=jnp.float32)\n",
    "        self.att = Attention(sd, i, dtype=dtype)\n",
    "        self.ln2 = Ln(sd, f\"blocks.{i}.ln2\", dtype=jnp.float32)\n",
    "        self.ffn = Ffn(sd, i, dtype=dtype)\n",
    "\n",
    "def BLOCK(x, state, i, block: Block):\n",
    "    xx = LN(x, block.ln1.weight, block.ln1.bias)\n",
    "    xx, state = AT(xx, state, i, block.att.time_mix_k, block.att.time_mix_v, block.att.time_mix_r, block.att.key, block.att.output, block.att.receptance, block.att.time_decay, block.att.time_first, block.att.value)\n",
    "    x = x + xx\n",
    "    xx = LN(x, block.ln2.weight, block.ln2.bias)\n",
    "    xx, state = FFN(x, state, i, block.ffn.key, block.ffn.receptance, block.ffn.time_mix_k, block.ffn.time_mix_r, block.ffn.value)\n",
    "    return x + xx, state\n"
   ]
  },
  {
   "cell_type": "code",
   "execution_count": 27,
   "metadata": {},
   "outputs": [
    {
     "ename": "TypeError",
     "evalue": "dot_general requires contracting dimensions to have the same shape, got (1024,) and (4096,).",
     "output_type": "error",
     "traceback": [
      "\u001b[0;31m---------------------------------------------------------------------------\u001b[0m",
      "\u001b[0;31mTypeError\u001b[0m                                 Traceback (most recent call last)",
      "Cell \u001b[0;32mIn[27], line 5\u001b[0m\n\u001b[1;32m      3\u001b[0m x \u001b[39m=\u001b[39m jax\u001b[39m.\u001b[39mrandom\u001b[39m.\u001b[39mnormal(key, (\u001b[39m1024\u001b[39m,), dtype\u001b[39m=\u001b[39mblock\u001b[39m.\u001b[39mdtype)\n\u001b[1;32m      4\u001b[0m state \u001b[39m=\u001b[39m jnp\u001b[39m.\u001b[39marray([\u001b[39m0.0\u001b[39m]\u001b[39m*\u001b[39m\u001b[39m5\u001b[39m\u001b[39m*\u001b[39m\u001b[39m1024\u001b[39m, dtype\u001b[39m=\u001b[39mjnp\u001b[39m.\u001b[39mfloat32)\u001b[39m.\u001b[39mreshape((\u001b[39m5\u001b[39m,\u001b[39m1024\u001b[39m))\n\u001b[0;32m----> 5\u001b[0m \u001b[39mprint\u001b[39m(BLOCK(x, state, \u001b[39m0\u001b[39;49m, block))\n\u001b[1;32m      6\u001b[0m \u001b[39m# %timeit BLOCK(x, state, 0, block)\u001b[39;00m\n\u001b[1;32m      7\u001b[0m \u001b[39mdel\u001b[39;00m block, x, state, key\n",
      "Cell \u001b[0;32mIn[12], line 14\u001b[0m, in \u001b[0;36mBLOCK\u001b[0;34m(x, state, i, block)\u001b[0m\n\u001b[1;32m     12\u001b[0m x \u001b[39m=\u001b[39m x \u001b[39m+\u001b[39m xx\n\u001b[1;32m     13\u001b[0m xx \u001b[39m=\u001b[39m LN(x, block\u001b[39m.\u001b[39mln2\u001b[39m.\u001b[39mweight, block\u001b[39m.\u001b[39mln2\u001b[39m.\u001b[39mbias)\n\u001b[0;32m---> 14\u001b[0m xx, state \u001b[39m=\u001b[39m FFN(x, state, i, block\u001b[39m.\u001b[39;49mffn\u001b[39m.\u001b[39;49mkey, block\u001b[39m.\u001b[39;49mffn\u001b[39m.\u001b[39;49mreceptance, block\u001b[39m.\u001b[39;49mffn\u001b[39m.\u001b[39;49mtime_mix_k, block\u001b[39m.\u001b[39;49mffn\u001b[39m.\u001b[39;49mtime_mix_r, block\u001b[39m.\u001b[39;49mffn\u001b[39m.\u001b[39;49mvalue)\n\u001b[1;32m     15\u001b[0m \u001b[39mreturn\u001b[39;00m x \u001b[39m+\u001b[39m xx, state\n",
      "Cell \u001b[0;32mIn[25], line 8\u001b[0m, in \u001b[0;36mFFN\u001b[0;34m(x, state, i, key, receptance, time_mix_k, time_mix_r, value)\u001b[0m\n\u001b[1;32m      5\u001b[0m state \u001b[39m=\u001b[39m state\u001b[39m.\u001b[39mat[\u001b[39m5\u001b[39m\u001b[39m*\u001b[39mi\u001b[39m+\u001b[39m\u001b[39m0\u001b[39m]\u001b[39m.\u001b[39mset(x)\n\u001b[1;32m      7\u001b[0m r \u001b[39m=\u001b[39m jax\u001b[39m.\u001b[39mnn\u001b[39m.\u001b[39msigmoid(xr \u001b[39m@\u001b[39m receptance)\n\u001b[0;32m----> 8\u001b[0m k \u001b[39m=\u001b[39m jnp\u001b[39m.\u001b[39msquare(jax\u001b[39m.\u001b[39mnn\u001b[39m.\u001b[39mrelu(xk \u001b[39m@\u001b[39;49m key))\n\u001b[1;32m      9\u001b[0m \u001b[39mprint\u001b[39m(i, k, value)\n\u001b[1;32m     10\u001b[0m kv \u001b[39m=\u001b[39m k \u001b[39m@\u001b[39m value\n",
      "File \u001b[0;32m~/projects/jax/rwkv-lm-jax/venv/lib/python3.10/site-packages/jax/_src/numpy/lax_numpy.py:5071\u001b[0m, in \u001b[0;36m_defer_to_unrecognized_arg.<locals>.deferring_binary_op\u001b[0;34m(self, other)\u001b[0m\n\u001b[1;32m   5069\u001b[0m args \u001b[39m=\u001b[39m (other, \u001b[39mself\u001b[39m) \u001b[39mif\u001b[39;00m swap \u001b[39melse\u001b[39;00m (\u001b[39mself\u001b[39m, other)\n\u001b[1;32m   5070\u001b[0m \u001b[39mif\u001b[39;00m \u001b[39misinstance\u001b[39m(other, _accepted_binop_types):\n\u001b[0;32m-> 5071\u001b[0m   \u001b[39mreturn\u001b[39;00m binary_op(\u001b[39m*\u001b[39;49margs)\n\u001b[1;32m   5072\u001b[0m \u001b[39mif\u001b[39;00m \u001b[39misinstance\u001b[39m(other, _rejected_binop_types):\n\u001b[1;32m   5073\u001b[0m   \u001b[39mraise\u001b[39;00m \u001b[39mTypeError\u001b[39;00m(\u001b[39mf\u001b[39m\u001b[39m\"\u001b[39m\u001b[39munsupported operand type(s) for \u001b[39m\u001b[39m{\u001b[39;00mopchar\u001b[39m}\u001b[39;00m\u001b[39m: \u001b[39m\u001b[39m\"\u001b[39m\n\u001b[1;32m   5074\u001b[0m                   \u001b[39mf\u001b[39m\u001b[39m\"\u001b[39m\u001b[39m{\u001b[39;00m\u001b[39mtype\u001b[39m(args[\u001b[39m0\u001b[39m])\u001b[39m.\u001b[39m\u001b[39m__name__\u001b[39m\u001b[39m!r}\u001b[39;00m\u001b[39m and \u001b[39m\u001b[39m{\u001b[39;00m\u001b[39mtype\u001b[39m(args[\u001b[39m1\u001b[39m])\u001b[39m.\u001b[39m\u001b[39m__name__\u001b[39m\u001b[39m!r}\u001b[39;00m\u001b[39m\"\u001b[39m)\n",
      "File \u001b[0;32m~/projects/jax/rwkv-lm-jax/venv/lib/python3.10/site-packages/jax/_src/numpy/lax_numpy.py:3060\u001b[0m, in \u001b[0;36mmatmul\u001b[0;34m(a, b, precision)\u001b[0m\n\u001b[1;32m   3058\u001b[0m a \u001b[39m=\u001b[39m lax\u001b[39m.\u001b[39msqueeze(a, \u001b[39mtuple\u001b[39m(a_squeeze))\n\u001b[1;32m   3059\u001b[0m b \u001b[39m=\u001b[39m lax\u001b[39m.\u001b[39msqueeze(b, \u001b[39mtuple\u001b[39m(b_squeeze))\n\u001b[0;32m-> 3060\u001b[0m out \u001b[39m=\u001b[39m lax\u001b[39m.\u001b[39;49mdot_general(\n\u001b[1;32m   3061\u001b[0m   a, b, (((ndim(a) \u001b[39m-\u001b[39;49m \u001b[39m1\u001b[39;49m,), (ndim(b) \u001b[39m-\u001b[39;49m \u001b[39m1\u001b[39;49m \u001b[39m-\u001b[39;49m b_is_mat,)), (a_batch, b_batch)),\n\u001b[1;32m   3062\u001b[0m   precision\u001b[39m=\u001b[39;49mprecision)\n\u001b[1;32m   3063\u001b[0m \u001b[39mreturn\u001b[39;00m lax\u001b[39m.\u001b[39mtranspose(out, perm)\n",
      "File \u001b[0;32m~/projects/jax/rwkv-lm-jax/venv/lib/python3.10/site-packages/jax/_src/lax/lax.py:770\u001b[0m, in \u001b[0;36mdot_general\u001b[0;34m(lhs, rhs, dimension_numbers, precision, preferred_element_type)\u001b[0m\n\u001b[1;32m    765\u001b[0m bdims \u001b[39m=\u001b[39m (api_util\u001b[39m.\u001b[39m_ensure_index_tuple(lhs_batch),\n\u001b[1;32m    766\u001b[0m          api_util\u001b[39m.\u001b[39m_ensure_index_tuple(rhs_batch))\n\u001b[1;32m    767\u001b[0m preferred_element_type \u001b[39m=\u001b[39m (\n\u001b[1;32m    768\u001b[0m     \u001b[39mNone\u001b[39;00m \u001b[39mif\u001b[39;00m preferred_element_type \u001b[39mis\u001b[39;00m \u001b[39mNone\u001b[39;00m \u001b[39melse\u001b[39;00m\n\u001b[1;32m    769\u001b[0m     dtypes\u001b[39m.\u001b[39mcanonicalize_dtype(np\u001b[39m.\u001b[39mdtype(preferred_element_type)))\n\u001b[0;32m--> 770\u001b[0m \u001b[39mreturn\u001b[39;00m dot_general_p\u001b[39m.\u001b[39;49mbind(lhs, rhs,\n\u001b[1;32m    771\u001b[0m                           dimension_numbers\u001b[39m=\u001b[39;49m(cdims, bdims),\n\u001b[1;32m    772\u001b[0m                           precision\u001b[39m=\u001b[39;49mcanonicalize_precision(precision),\n\u001b[1;32m    773\u001b[0m                           preferred_element_type\u001b[39m=\u001b[39;49mpreferred_element_type)\n",
      "File \u001b[0;32m~/projects/jax/rwkv-lm-jax/venv/lib/python3.10/site-packages/jax/_src/core.py:343\u001b[0m, in \u001b[0;36mPrimitive.bind\u001b[0;34m(self, *args, **params)\u001b[0m\n\u001b[1;32m    340\u001b[0m \u001b[39mdef\u001b[39;00m \u001b[39mbind\u001b[39m(\u001b[39mself\u001b[39m, \u001b[39m*\u001b[39margs, \u001b[39m*\u001b[39m\u001b[39m*\u001b[39mparams):\n\u001b[1;32m    341\u001b[0m   \u001b[39massert\u001b[39;00m (\u001b[39mnot\u001b[39;00m config\u001b[39m.\u001b[39mjax_enable_checks \u001b[39mor\u001b[39;00m\n\u001b[1;32m    342\u001b[0m           \u001b[39mall\u001b[39m(\u001b[39misinstance\u001b[39m(arg, Tracer) \u001b[39mor\u001b[39;00m valid_jaxtype(arg) \u001b[39mfor\u001b[39;00m arg \u001b[39min\u001b[39;00m args)), args\n\u001b[0;32m--> 343\u001b[0m   \u001b[39mreturn\u001b[39;00m \u001b[39mself\u001b[39;49m\u001b[39m.\u001b[39;49mbind_with_trace(find_top_trace(args), args, params)\n",
      "File \u001b[0;32m~/projects/jax/rwkv-lm-jax/venv/lib/python3.10/site-packages/jax/_src/core.py:346\u001b[0m, in \u001b[0;36mPrimitive.bind_with_trace\u001b[0;34m(self, trace, args, params)\u001b[0m\n\u001b[1;32m    345\u001b[0m \u001b[39mdef\u001b[39;00m \u001b[39mbind_with_trace\u001b[39m(\u001b[39mself\u001b[39m, trace, args, params):\n\u001b[0;32m--> 346\u001b[0m   out \u001b[39m=\u001b[39m trace\u001b[39m.\u001b[39;49mprocess_primitive(\u001b[39mself\u001b[39;49m, \u001b[39mmap\u001b[39;49m(trace\u001b[39m.\u001b[39;49mfull_raise, args), params)\n\u001b[1;32m    347\u001b[0m   \u001b[39mreturn\u001b[39;00m \u001b[39mmap\u001b[39m(full_lower, out) \u001b[39mif\u001b[39;00m \u001b[39mself\u001b[39m\u001b[39m.\u001b[39mmultiple_results \u001b[39melse\u001b[39;00m full_lower(out)\n",
      "File \u001b[0;32m~/projects/jax/rwkv-lm-jax/venv/lib/python3.10/site-packages/jax/_src/core.py:789\u001b[0m, in \u001b[0;36mEvalTrace.process_primitive\u001b[0;34m(self, primitive, tracers, params)\u001b[0m\n\u001b[1;32m    788\u001b[0m \u001b[39mdef\u001b[39;00m \u001b[39mprocess_primitive\u001b[39m(\u001b[39mself\u001b[39m, primitive, tracers, params):\n\u001b[0;32m--> 789\u001b[0m   \u001b[39mreturn\u001b[39;00m primitive\u001b[39m.\u001b[39;49mimpl(\u001b[39m*\u001b[39;49mtracers, \u001b[39m*\u001b[39;49m\u001b[39m*\u001b[39;49mparams)\n",
      "File \u001b[0;32m~/projects/jax/rwkv-lm-jax/venv/lib/python3.10/site-packages/jax/_src/dispatch.py:123\u001b[0m, in \u001b[0;36mapply_primitive\u001b[0;34m(prim, *args, **params)\u001b[0m\n\u001b[1;32m    121\u001b[0m \u001b[39mdef\u001b[39;00m \u001b[39mapply_primitive\u001b[39m(prim, \u001b[39m*\u001b[39margs, \u001b[39m*\u001b[39m\u001b[39m*\u001b[39mparams):\n\u001b[1;32m    122\u001b[0m \u001b[39m  \u001b[39m\u001b[39m\"\"\"Impl rule that compiles and runs a single primitive 'prim' using XLA.\"\"\"\u001b[39;00m\n\u001b[0;32m--> 123\u001b[0m   compiled_fun \u001b[39m=\u001b[39m xla_primitive_callable(prim, \u001b[39m*\u001b[39;49munsafe_map(arg_spec, args),\n\u001b[1;32m    124\u001b[0m                                         \u001b[39m*\u001b[39;49m\u001b[39m*\u001b[39;49mparams)\n\u001b[1;32m    125\u001b[0m   \u001b[39mreturn\u001b[39;00m compiled_fun(\u001b[39m*\u001b[39margs)\n",
      "File \u001b[0;32m~/projects/jax/rwkv-lm-jax/venv/lib/python3.10/site-packages/jax/_src/util.py:253\u001b[0m, in \u001b[0;36mcache.<locals>.wrap.<locals>.wrapper\u001b[0;34m(*args, **kwargs)\u001b[0m\n\u001b[1;32m    251\u001b[0m   \u001b[39mreturn\u001b[39;00m f(\u001b[39m*\u001b[39margs, \u001b[39m*\u001b[39m\u001b[39m*\u001b[39mkwargs)\n\u001b[1;32m    252\u001b[0m \u001b[39melse\u001b[39;00m:\n\u001b[0;32m--> 253\u001b[0m   \u001b[39mreturn\u001b[39;00m cached(config\u001b[39m.\u001b[39;49m_trace_context(), \u001b[39m*\u001b[39;49margs, \u001b[39m*\u001b[39;49m\u001b[39m*\u001b[39;49mkwargs)\n",
      "File \u001b[0;32m~/projects/jax/rwkv-lm-jax/venv/lib/python3.10/site-packages/jax/_src/util.py:246\u001b[0m, in \u001b[0;36mcache.<locals>.wrap.<locals>.cached\u001b[0;34m(_, *args, **kwargs)\u001b[0m\n\u001b[1;32m    244\u001b[0m \u001b[39m@functools\u001b[39m\u001b[39m.\u001b[39mlru_cache(max_size)\n\u001b[1;32m    245\u001b[0m \u001b[39mdef\u001b[39;00m \u001b[39mcached\u001b[39m(_, \u001b[39m*\u001b[39margs, \u001b[39m*\u001b[39m\u001b[39m*\u001b[39mkwargs):\n\u001b[0;32m--> 246\u001b[0m   \u001b[39mreturn\u001b[39;00m f(\u001b[39m*\u001b[39;49margs, \u001b[39m*\u001b[39;49m\u001b[39m*\u001b[39;49mkwargs)\n",
      "File \u001b[0;32m~/projects/jax/rwkv-lm-jax/venv/lib/python3.10/site-packages/jax/_src/dispatch.py:202\u001b[0m, in \u001b[0;36mxla_primitive_callable\u001b[0;34m(prim, *arg_specs, **params)\u001b[0m\n\u001b[1;32m    200\u001b[0m   \u001b[39melse\u001b[39;00m:\n\u001b[1;32m    201\u001b[0m     \u001b[39mreturn\u001b[39;00m out,\n\u001b[0;32m--> 202\u001b[0m compiled \u001b[39m=\u001b[39m _xla_callable_uncached(lu\u001b[39m.\u001b[39;49mwrap_init(prim_fun), device, \u001b[39mNone\u001b[39;49;00m,\n\u001b[1;32m    203\u001b[0m                                   prim\u001b[39m.\u001b[39;49mname, donated_invars, \u001b[39mFalse\u001b[39;49;00m, \u001b[39m*\u001b[39;49marg_specs)\n\u001b[1;32m    204\u001b[0m \u001b[39mif\u001b[39;00m \u001b[39mnot\u001b[39;00m prim\u001b[39m.\u001b[39mmultiple_results:\n\u001b[1;32m    205\u001b[0m   \u001b[39mreturn\u001b[39;00m \u001b[39mlambda\u001b[39;00m \u001b[39m*\u001b[39margs, \u001b[39m*\u001b[39m\u001b[39m*\u001b[39mkw: compiled(\u001b[39m*\u001b[39margs, \u001b[39m*\u001b[39m\u001b[39m*\u001b[39mkw)[\u001b[39m0\u001b[39m]\n",
      "File \u001b[0;32m~/projects/jax/rwkv-lm-jax/venv/lib/python3.10/site-packages/jax/_src/dispatch.py:352\u001b[0m, in \u001b[0;36m_xla_callable_uncached\u001b[0;34m(fun, device, backend, name, donated_invars, keep_unused, *arg_specs)\u001b[0m\n\u001b[1;32m    349\u001b[0m \u001b[39mdef\u001b[39;00m \u001b[39m_xla_callable_uncached\u001b[39m(fun: lu\u001b[39m.\u001b[39mWrappedFun, device, backend, name,\n\u001b[1;32m    350\u001b[0m                            donated_invars, keep_unused, \u001b[39m*\u001b[39marg_specs):\n\u001b[1;32m    351\u001b[0m   \u001b[39mif\u001b[39;00m config\u001b[39m.\u001b[39mjax_array:\n\u001b[0;32m--> 352\u001b[0m     computation \u001b[39m=\u001b[39m sharded_lowering(fun, device, backend, name, donated_invars,\n\u001b[1;32m    353\u001b[0m                                    \u001b[39mFalse\u001b[39;49;00m, keep_unused, \u001b[39m*\u001b[39;49marg_specs)\n\u001b[1;32m    354\u001b[0m     allow_prop \u001b[39m=\u001b[39m [\u001b[39mTrue\u001b[39;00m] \u001b[39m*\u001b[39m \u001b[39mlen\u001b[39m(computation\u001b[39m.\u001b[39mcompile_args[\u001b[39m'\u001b[39m\u001b[39mglobal_out_avals\u001b[39m\u001b[39m'\u001b[39m])\n\u001b[1;32m    355\u001b[0m     \u001b[39mreturn\u001b[39;00m computation\u001b[39m.\u001b[39mcompile(_allow_propagation_to_outputs\u001b[39m=\u001b[39mallow_prop)\u001b[39m.\u001b[39munsafe_call\n",
      "File \u001b[0;32m~/projects/jax/rwkv-lm-jax/venv/lib/python3.10/site-packages/jax/_src/dispatch.py:343\u001b[0m, in \u001b[0;36msharded_lowering\u001b[0;34m(fun, device, backend, name, donated_invars, always_lower, keep_unused, *arg_specs)\u001b[0m\n\u001b[1;32m    338\u001b[0m in_shardings \u001b[39m=\u001b[39m [pxla\u001b[39m.\u001b[39m_UNSPECIFIED \u001b[39mif\u001b[39;00m i \u001b[39mis\u001b[39;00m \u001b[39mNone\u001b[39;00m \u001b[39melse\u001b[39;00m i \u001b[39mfor\u001b[39;00m i \u001b[39min\u001b[39;00m in_shardings]\n\u001b[1;32m    340\u001b[0m \u001b[39m# Pass in a singleton `_UNSPECIFIED` for out_shardings because we don't know\u001b[39;00m\n\u001b[1;32m    341\u001b[0m \u001b[39m# the number of output avals at this stage. lower_sharding_computation will\u001b[39;00m\n\u001b[1;32m    342\u001b[0m \u001b[39m# apply it to all out_avals.\u001b[39;00m\n\u001b[0;32m--> 343\u001b[0m \u001b[39mreturn\u001b[39;00m pxla\u001b[39m.\u001b[39;49mlower_sharding_computation(\n\u001b[1;32m    344\u001b[0m     fun, \u001b[39m'\u001b[39;49m\u001b[39mjit\u001b[39;49m\u001b[39m'\u001b[39;49m, name, in_shardings, pxla\u001b[39m.\u001b[39;49m_UNSPECIFIED, donated_invars,\n\u001b[1;32m    345\u001b[0m     in_avals, in_is_global\u001b[39m=\u001b[39;49m(\u001b[39mTrue\u001b[39;49;00m,) \u001b[39m*\u001b[39;49m \u001b[39mlen\u001b[39;49m(arg_specs), keep_unused\u001b[39m=\u001b[39;49mkeep_unused,\n\u001b[1;32m    346\u001b[0m     always_lower\u001b[39m=\u001b[39;49malways_lower, devices_from_context\u001b[39m=\u001b[39;49mda)\n",
      "File \u001b[0;32m~/projects/jax/rwkv-lm-jax/venv/lib/python3.10/site-packages/jax/_src/profiler.py:314\u001b[0m, in \u001b[0;36mannotate_function.<locals>.wrapper\u001b[0;34m(*args, **kwargs)\u001b[0m\n\u001b[1;32m    311\u001b[0m \u001b[39m@wraps\u001b[39m(func)\n\u001b[1;32m    312\u001b[0m \u001b[39mdef\u001b[39;00m \u001b[39mwrapper\u001b[39m(\u001b[39m*\u001b[39margs, \u001b[39m*\u001b[39m\u001b[39m*\u001b[39mkwargs):\n\u001b[1;32m    313\u001b[0m   \u001b[39mwith\u001b[39;00m TraceAnnotation(name, \u001b[39m*\u001b[39m\u001b[39m*\u001b[39mdecorator_kwargs):\n\u001b[0;32m--> 314\u001b[0m     \u001b[39mreturn\u001b[39;00m func(\u001b[39m*\u001b[39;49margs, \u001b[39m*\u001b[39;49m\u001b[39m*\u001b[39;49mkwargs)\n\u001b[1;32m    315\u001b[0m   \u001b[39mreturn\u001b[39;00m wrapper\n",
      "File \u001b[0;32m~/projects/jax/rwkv-lm-jax/venv/lib/python3.10/site-packages/jax/_src/interpreters/pxla.py:2844\u001b[0m, in \u001b[0;36mlower_sharding_computation\u001b[0;34m(fun, api_name, fun_name, in_shardings, out_shardings, donated_invars, global_in_avals, in_is_global, keep_unused, always_lower, devices_from_context)\u001b[0m\n\u001b[1;32m   2839\u001b[0m name_stack \u001b[39m=\u001b[39m new_name_stack(wrap_name(fun_name, api_name))\n\u001b[1;32m   2841\u001b[0m \u001b[39mwith\u001b[39;00m dispatch\u001b[39m.\u001b[39mlog_elapsed_time(\u001b[39mf\u001b[39m\u001b[39m\"\u001b[39m\u001b[39mFinished tracing + transforming \u001b[39m\u001b[39m{\u001b[39;00mname_stack\u001b[39m}\u001b[39;00m\u001b[39m \u001b[39m\u001b[39m\"\u001b[39m\n\u001b[1;32m   2842\u001b[0m                                \u001b[39m\"\u001b[39m\u001b[39min \u001b[39m\u001b[39m{elapsed_time}\u001b[39;00m\u001b[39m sec\u001b[39m\u001b[39m\"\u001b[39m,\n\u001b[1;32m   2843\u001b[0m                                event\u001b[39m=\u001b[39mdispatch\u001b[39m.\u001b[39mJAXPR_TRACE_EVENT):\n\u001b[0;32m-> 2844\u001b[0m   jaxpr, global_out_avals, consts \u001b[39m=\u001b[39m pe\u001b[39m.\u001b[39;49mtrace_to_jaxpr_final(\n\u001b[1;32m   2845\u001b[0m       fun, global_in_avals, debug_info\u001b[39m=\u001b[39;49mpe\u001b[39m.\u001b[39;49mdebug_info_final(fun, api_name))\n\u001b[1;32m   2846\u001b[0m kept_outputs \u001b[39m=\u001b[39m [\u001b[39mTrue\u001b[39;00m] \u001b[39m*\u001b[39m \u001b[39mlen\u001b[39m(global_out_avals)\n\u001b[1;32m   2848\u001b[0m \u001b[39mif\u001b[39;00m _is_unspecified(out_shardings):\n",
      "File \u001b[0;32m~/projects/jax/rwkv-lm-jax/venv/lib/python3.10/site-packages/jax/_src/profiler.py:314\u001b[0m, in \u001b[0;36mannotate_function.<locals>.wrapper\u001b[0;34m(*args, **kwargs)\u001b[0m\n\u001b[1;32m    311\u001b[0m \u001b[39m@wraps\u001b[39m(func)\n\u001b[1;32m    312\u001b[0m \u001b[39mdef\u001b[39;00m \u001b[39mwrapper\u001b[39m(\u001b[39m*\u001b[39margs, \u001b[39m*\u001b[39m\u001b[39m*\u001b[39mkwargs):\n\u001b[1;32m    313\u001b[0m   \u001b[39mwith\u001b[39;00m TraceAnnotation(name, \u001b[39m*\u001b[39m\u001b[39m*\u001b[39mdecorator_kwargs):\n\u001b[0;32m--> 314\u001b[0m     \u001b[39mreturn\u001b[39;00m func(\u001b[39m*\u001b[39;49margs, \u001b[39m*\u001b[39;49m\u001b[39m*\u001b[39;49mkwargs)\n\u001b[1;32m    315\u001b[0m   \u001b[39mreturn\u001b[39;00m wrapper\n",
      "File \u001b[0;32m~/projects/jax/rwkv-lm-jax/venv/lib/python3.10/site-packages/jax/interpreters/partial_eval.py:2055\u001b[0m, in \u001b[0;36mtrace_to_jaxpr_final\u001b[0;34m(fun, in_avals, debug_info, keep_inputs)\u001b[0m\n\u001b[1;32m   2053\u001b[0m   main\u001b[39m.\u001b[39mjaxpr_stack \u001b[39m=\u001b[39m ()  \u001b[39m# type: ignore\u001b[39;00m\n\u001b[1;32m   2054\u001b[0m   \u001b[39mwith\u001b[39;00m core\u001b[39m.\u001b[39mnew_sublevel():\n\u001b[0;32m-> 2055\u001b[0m     jaxpr, out_avals, consts \u001b[39m=\u001b[39m trace_to_subjaxpr_dynamic(\n\u001b[1;32m   2056\u001b[0m       fun, main, in_avals, keep_inputs\u001b[39m=\u001b[39;49mkeep_inputs, debug_info\u001b[39m=\u001b[39;49mdebug_info)\n\u001b[1;32m   2057\u001b[0m   \u001b[39mdel\u001b[39;00m fun, main\n\u001b[1;32m   2058\u001b[0m \u001b[39mreturn\u001b[39;00m jaxpr, out_avals, consts\n",
      "File \u001b[0;32m~/projects/jax/rwkv-lm-jax/venv/lib/python3.10/site-packages/jax/interpreters/partial_eval.py:2002\u001b[0m, in \u001b[0;36mtrace_to_subjaxpr_dynamic\u001b[0;34m(fun, main, in_avals, keep_inputs, debug_info)\u001b[0m\n\u001b[1;32m   2000\u001b[0m in_tracers \u001b[39m=\u001b[39m _input_type_to_tracers(trace\u001b[39m.\u001b[39mnew_arg, in_avals)\n\u001b[1;32m   2001\u001b[0m in_tracers_ \u001b[39m=\u001b[39m [t \u001b[39mfor\u001b[39;00m t, keep \u001b[39min\u001b[39;00m \u001b[39mzip\u001b[39m(in_tracers, keep_inputs) \u001b[39mif\u001b[39;00m keep]\n\u001b[0;32m-> 2002\u001b[0m ans \u001b[39m=\u001b[39m fun\u001b[39m.\u001b[39;49mcall_wrapped(\u001b[39m*\u001b[39;49min_tracers_)\n\u001b[1;32m   2003\u001b[0m out_tracers \u001b[39m=\u001b[39m \u001b[39mmap\u001b[39m(trace\u001b[39m.\u001b[39mfull_raise, ans)\n\u001b[1;32m   2004\u001b[0m jaxpr, consts \u001b[39m=\u001b[39m frame\u001b[39m.\u001b[39mto_jaxpr(out_tracers)\n",
      "File \u001b[0;32m~/projects/jax/rwkv-lm-jax/venv/lib/python3.10/site-packages/jax/_src/linear_util.py:165\u001b[0m, in \u001b[0;36mWrappedFun.call_wrapped\u001b[0;34m(self, *args, **kwargs)\u001b[0m\n\u001b[1;32m    162\u001b[0m gen \u001b[39m=\u001b[39m gen_static_args \u001b[39m=\u001b[39m out_store \u001b[39m=\u001b[39m \u001b[39mNone\u001b[39;00m\n\u001b[1;32m    164\u001b[0m \u001b[39mtry\u001b[39;00m:\n\u001b[0;32m--> 165\u001b[0m   ans \u001b[39m=\u001b[39m \u001b[39mself\u001b[39;49m\u001b[39m.\u001b[39;49mf(\u001b[39m*\u001b[39;49margs, \u001b[39m*\u001b[39;49m\u001b[39m*\u001b[39;49m\u001b[39mdict\u001b[39;49m(\u001b[39mself\u001b[39;49m\u001b[39m.\u001b[39;49mparams, \u001b[39m*\u001b[39;49m\u001b[39m*\u001b[39;49mkwargs))\n\u001b[1;32m    166\u001b[0m \u001b[39mexcept\u001b[39;00m:\n\u001b[1;32m    167\u001b[0m   \u001b[39m# Some transformations yield from inside context managers, so we have to\u001b[39;00m\n\u001b[1;32m    168\u001b[0m   \u001b[39m# interrupt them before reraising the exception. Otherwise they will only\u001b[39;00m\n\u001b[1;32m    169\u001b[0m   \u001b[39m# get garbage-collected at some later time, running their cleanup tasks\u001b[39;00m\n\u001b[1;32m    170\u001b[0m   \u001b[39m# only after this exception is handled, which can corrupt the global\u001b[39;00m\n\u001b[1;32m    171\u001b[0m   \u001b[39m# state.\u001b[39;00m\n\u001b[1;32m    172\u001b[0m   \u001b[39mwhile\u001b[39;00m stack:\n",
      "File \u001b[0;32m~/projects/jax/rwkv-lm-jax/venv/lib/python3.10/site-packages/jax/_src/dispatch.py:197\u001b[0m, in \u001b[0;36mxla_primitive_callable.<locals>.prim_fun\u001b[0;34m(*args)\u001b[0m\n\u001b[1;32m    196\u001b[0m \u001b[39mdef\u001b[39;00m \u001b[39mprim_fun\u001b[39m(\u001b[39m*\u001b[39margs):\n\u001b[0;32m--> 197\u001b[0m   out \u001b[39m=\u001b[39m prim\u001b[39m.\u001b[39;49mbind(\u001b[39m*\u001b[39;49margs, \u001b[39m*\u001b[39;49m\u001b[39m*\u001b[39;49mparams)\n\u001b[1;32m    198\u001b[0m   \u001b[39mif\u001b[39;00m prim\u001b[39m.\u001b[39mmultiple_results:\n\u001b[1;32m    199\u001b[0m     \u001b[39mreturn\u001b[39;00m out\n",
      "File \u001b[0;32m~/projects/jax/rwkv-lm-jax/venv/lib/python3.10/site-packages/jax/_src/core.py:343\u001b[0m, in \u001b[0;36mPrimitive.bind\u001b[0;34m(self, *args, **params)\u001b[0m\n\u001b[1;32m    340\u001b[0m \u001b[39mdef\u001b[39;00m \u001b[39mbind\u001b[39m(\u001b[39mself\u001b[39m, \u001b[39m*\u001b[39margs, \u001b[39m*\u001b[39m\u001b[39m*\u001b[39mparams):\n\u001b[1;32m    341\u001b[0m   \u001b[39massert\u001b[39;00m (\u001b[39mnot\u001b[39;00m config\u001b[39m.\u001b[39mjax_enable_checks \u001b[39mor\u001b[39;00m\n\u001b[1;32m    342\u001b[0m           \u001b[39mall\u001b[39m(\u001b[39misinstance\u001b[39m(arg, Tracer) \u001b[39mor\u001b[39;00m valid_jaxtype(arg) \u001b[39mfor\u001b[39;00m arg \u001b[39min\u001b[39;00m args)), args\n\u001b[0;32m--> 343\u001b[0m   \u001b[39mreturn\u001b[39;00m \u001b[39mself\u001b[39;49m\u001b[39m.\u001b[39;49mbind_with_trace(find_top_trace(args), args, params)\n",
      "File \u001b[0;32m~/projects/jax/rwkv-lm-jax/venv/lib/python3.10/site-packages/jax/_src/core.py:346\u001b[0m, in \u001b[0;36mPrimitive.bind_with_trace\u001b[0;34m(self, trace, args, params)\u001b[0m\n\u001b[1;32m    345\u001b[0m \u001b[39mdef\u001b[39;00m \u001b[39mbind_with_trace\u001b[39m(\u001b[39mself\u001b[39m, trace, args, params):\n\u001b[0;32m--> 346\u001b[0m   out \u001b[39m=\u001b[39m trace\u001b[39m.\u001b[39;49mprocess_primitive(\u001b[39mself\u001b[39;49m, \u001b[39mmap\u001b[39;49m(trace\u001b[39m.\u001b[39;49mfull_raise, args), params)\n\u001b[1;32m    347\u001b[0m   \u001b[39mreturn\u001b[39;00m \u001b[39mmap\u001b[39m(full_lower, out) \u001b[39mif\u001b[39;00m \u001b[39mself\u001b[39m\u001b[39m.\u001b[39mmultiple_results \u001b[39melse\u001b[39;00m full_lower(out)\n",
      "File \u001b[0;32m~/projects/jax/rwkv-lm-jax/venv/lib/python3.10/site-packages/jax/interpreters/partial_eval.py:1721\u001b[0m, in \u001b[0;36mDynamicJaxprTrace.process_primitive\u001b[0;34m(self, primitive, tracers, params)\u001b[0m\n\u001b[1;32m   1719\u001b[0m \u001b[39mif\u001b[39;00m primitive \u001b[39min\u001b[39;00m custom_staging_rules:\n\u001b[1;32m   1720\u001b[0m   \u001b[39mreturn\u001b[39;00m custom_staging_rules[primitive](\u001b[39mself\u001b[39m, \u001b[39m*\u001b[39mtracers, \u001b[39m*\u001b[39m\u001b[39m*\u001b[39mparams)\n\u001b[0;32m-> 1721\u001b[0m \u001b[39mreturn\u001b[39;00m \u001b[39mself\u001b[39;49m\u001b[39m.\u001b[39;49mdefault_process_primitive(primitive, tracers, params)\n",
      "File \u001b[0;32m~/projects/jax/rwkv-lm-jax/venv/lib/python3.10/site-packages/jax/interpreters/partial_eval.py:1725\u001b[0m, in \u001b[0;36mDynamicJaxprTrace.default_process_primitive\u001b[0;34m(self, primitive, tracers, params)\u001b[0m\n\u001b[1;32m   1723\u001b[0m \u001b[39mdef\u001b[39;00m \u001b[39mdefault_process_primitive\u001b[39m(\u001b[39mself\u001b[39m, primitive, tracers, params):\n\u001b[1;32m   1724\u001b[0m   avals \u001b[39m=\u001b[39m [t\u001b[39m.\u001b[39maval \u001b[39mfor\u001b[39;00m t \u001b[39min\u001b[39;00m tracers]\n\u001b[0;32m-> 1725\u001b[0m   out_avals, effects \u001b[39m=\u001b[39m primitive\u001b[39m.\u001b[39;49mabstract_eval(\u001b[39m*\u001b[39;49mavals, \u001b[39m*\u001b[39;49m\u001b[39m*\u001b[39;49mparams)\n\u001b[1;32m   1726\u001b[0m   out_avals \u001b[39m=\u001b[39m [out_avals] \u001b[39mif\u001b[39;00m \u001b[39mnot\u001b[39;00m primitive\u001b[39m.\u001b[39mmultiple_results \u001b[39melse\u001b[39;00m out_avals\n\u001b[1;32m   1727\u001b[0m   source_info \u001b[39m=\u001b[39m source_info_util\u001b[39m.\u001b[39mcurrent()\n",
      "File \u001b[0;32m~/projects/jax/rwkv-lm-jax/venv/lib/python3.10/site-packages/jax/_src/core.py:379\u001b[0m, in \u001b[0;36m_effect_free_abstract_eval.<locals>.abstract_eval_\u001b[0;34m(*args, **kwargs)\u001b[0m\n\u001b[1;32m    378\u001b[0m \u001b[39mdef\u001b[39;00m \u001b[39mabstract_eval_\u001b[39m(\u001b[39m*\u001b[39margs, \u001b[39m*\u001b[39m\u001b[39m*\u001b[39mkwargs):\n\u001b[0;32m--> 379\u001b[0m   \u001b[39mreturn\u001b[39;00m abstract_eval(\u001b[39m*\u001b[39;49margs, \u001b[39m*\u001b[39;49m\u001b[39m*\u001b[39;49mkwargs), no_effects\n",
      "File \u001b[0;32m~/projects/jax/rwkv-lm-jax/venv/lib/python3.10/site-packages/jax/_src/lax/utils.py:66\u001b[0m, in \u001b[0;36mstandard_abstract_eval\u001b[0;34m(prim, shape_rule, dtype_rule, weak_type_rule, named_shape_rule, *avals, **kwargs)\u001b[0m\n\u001b[1;32m     64\u001b[0m   \u001b[39mreturn\u001b[39;00m core\u001b[39m.\u001b[39mConcreteArray(out\u001b[39m.\u001b[39mdtype, out, weak_type\u001b[39m=\u001b[39mweak_type)\n\u001b[1;32m     65\u001b[0m \u001b[39melif\u001b[39;00m least_specialized \u001b[39mis\u001b[39;00m core\u001b[39m.\u001b[39mShapedArray:\n\u001b[0;32m---> 66\u001b[0m   \u001b[39mreturn\u001b[39;00m core\u001b[39m.\u001b[39mShapedArray(shape_rule(\u001b[39m*\u001b[39;49mavals, \u001b[39m*\u001b[39;49m\u001b[39m*\u001b[39;49mkwargs),\n\u001b[1;32m     67\u001b[0m                           dtype_rule(\u001b[39m*\u001b[39mavals, \u001b[39m*\u001b[39m\u001b[39m*\u001b[39mkwargs), weak_type\u001b[39m=\u001b[39mweak_type,\n\u001b[1;32m     68\u001b[0m                           named_shape\u001b[39m=\u001b[39mnamed_shape_rule(\u001b[39m*\u001b[39mavals, \u001b[39m*\u001b[39m\u001b[39m*\u001b[39mkwargs))\n\u001b[1;32m     69\u001b[0m \u001b[39melif\u001b[39;00m least_specialized \u001b[39mis\u001b[39;00m core\u001b[39m.\u001b[39mDShapedArray:\n\u001b[1;32m     70\u001b[0m   shape \u001b[39m=\u001b[39m shape_rule(\u001b[39m*\u001b[39mavals, \u001b[39m*\u001b[39m\u001b[39m*\u001b[39mkwargs)\n",
      "File \u001b[0;32m~/projects/jax/rwkv-lm-jax/venv/lib/python3.10/site-packages/jax/_src/lax/lax.py:2533\u001b[0m, in \u001b[0;36m_dot_general_shape_rule\u001b[0;34m(lhs, rhs, dimension_numbers, precision, preferred_element_type)\u001b[0m\n\u001b[1;32m   2530\u001b[0m \u001b[39mif\u001b[39;00m \u001b[39mnot\u001b[39;00m core\u001b[39m.\u001b[39msymbolic_equal_shape(lhs_contracting_shape, rhs_contracting_shape):\n\u001b[1;32m   2531\u001b[0m   msg \u001b[39m=\u001b[39m (\u001b[39m\"\u001b[39m\u001b[39mdot_general requires contracting dimensions to have the same \u001b[39m\u001b[39m\"\u001b[39m\n\u001b[1;32m   2532\u001b[0m          \u001b[39m\"\u001b[39m\u001b[39mshape, got \u001b[39m\u001b[39m{}\u001b[39;00m\u001b[39m and \u001b[39m\u001b[39m{}\u001b[39;00m\u001b[39m.\u001b[39m\u001b[39m\"\u001b[39m)\n\u001b[0;32m-> 2533\u001b[0m   \u001b[39mraise\u001b[39;00m \u001b[39mTypeError\u001b[39;00m(msg\u001b[39m.\u001b[39mformat(lhs_contracting_shape, rhs_contracting_shape))\n\u001b[1;32m   2535\u001b[0m \u001b[39mreturn\u001b[39;00m _dot_general_shape_computation(lhs\u001b[39m.\u001b[39mshape, rhs\u001b[39m.\u001b[39mshape, dimension_numbers)\n",
      "\u001b[0;31mTypeError\u001b[0m: dot_general requires contracting dimensions to have the same shape, got (1024,) and (4096,)."
     ]
    }
   ],
   "source": [
    "block = Block(rwkv, 0)\n",
    "key = jax.random.PRNGKey(0)\n",
    "x = jax.random.normal(key, (1024,), dtype=block.dtype)\n",
    "state = jnp.array([0.0]*5*1024, dtype=jnp.float32).reshape((5,1024))\n",
    "print(BLOCK(x, state, 0, block))\n",
    "# %timeit BLOCK(x, state, 0, block)\n",
    "del block, x, state, key"
   ]
  },
  {
   "cell_type": "code",
   "execution_count": 14,
   "metadata": {},
   "outputs": [],
   "source": [
    "class RWKV():\n",
    "    def __init__(self, sd, blks, dtype=jnp.float32):\n",
    "        emb = jax.device_put(sd[f\"emb.weight\"].astype(dtype))\n",
    "        ln0 = Ln(sd, \"blocks.0.ln0\", dtype=jnp.float32)\n",
    "        ln = jax.vmap(LN, (0, None, None), 0)\n",
    "        self.emb = ln(emb, ln0.weight, ln0.bias)\n",
    "        self.blocks = [Block(sd, i, dtype=dtype) for i in range(blks)]\n",
    "        self.ln_out = Ln(sd, \"ln_out\", dtype=jnp.float32)\n",
    "        self.head = jax.device_put(sd[f\"head.weight\"].astype(dtype))\n",
    "    \n",
    "    def __call__(self, x, state):\n",
    "        x = self.emb[x]\n",
    "        for i,b in enumerate(self.blocks):\n",
    "            x, state = BLOCK(x, state, i, b)\n",
    "        x = LN(x, self.ln_out.weight, self.ln_out.bias)\n",
    "        return self.head @ x, state"
   ]
  },
  {
   "cell_type": "code",
   "execution_count": 15,
   "metadata": {},
   "outputs": [
    {
     "ename": "AttributeError",
     "evalue": "'Array' object has no attribute 't'",
     "output_type": "error",
     "traceback": [
      "\u001b[0;31m---------------------------------------------------------------------------\u001b[0m",
      "\u001b[0;31mAttributeError\u001b[0m                            Traceback (most recent call last)",
      "Cell \u001b[0;32mIn[15], line 6\u001b[0m\n\u001b[1;32m      3\u001b[0m config\u001b[39m.\u001b[39mupdate(\u001b[39m\"\u001b[39m\u001b[39mjax_debug_infs\u001b[39m\u001b[39m\"\u001b[39m, \u001b[39mTrue\u001b[39;00m)\n\u001b[1;32m      4\u001b[0m config\u001b[39m.\u001b[39mupdate(\u001b[39m\"\u001b[39m\u001b[39mjax_disable_jit\u001b[39m\u001b[39m\"\u001b[39m, \u001b[39mTrue\u001b[39;00m)\n\u001b[0;32m----> 6\u001b[0m rwkv_ \u001b[39m=\u001b[39m RWKV(rwkv, blks, dtype\u001b[39m=\u001b[39;49mjnp\u001b[39m.\u001b[39;49mfloat16)\n\u001b[1;32m      7\u001b[0m key \u001b[39m=\u001b[39m jax\u001b[39m.\u001b[39mrandom\u001b[39m.\u001b[39mPRNGKey(\u001b[39m0\u001b[39m)\n\u001b[1;32m      8\u001b[0m state \u001b[39m=\u001b[39m jnp\u001b[39m.\u001b[39marray(([\u001b[39m0.0\u001b[39m]\u001b[39m*\u001b[39m\u001b[39m1024\u001b[39m\u001b[39m*\u001b[39m\u001b[39m4\u001b[39m \u001b[39m+\u001b[39m [\u001b[39m-\u001b[39m\u001b[39m1e30\u001b[39m]\u001b[39m*\u001b[39m\u001b[39m1024\u001b[39m)\u001b[39m*\u001b[39mblks, dtype\u001b[39m=\u001b[39mjnp\u001b[39m.\u001b[39mfloat32)\u001b[39m.\u001b[39mreshape((\u001b[39m5\u001b[39m\u001b[39m*\u001b[39mblks,\u001b[39m1024\u001b[39m))\n",
      "Cell \u001b[0;32mIn[14], line 7\u001b[0m, in \u001b[0;36mRWKV.__init__\u001b[0;34m(self, sd, blks, dtype)\u001b[0m\n\u001b[1;32m      5\u001b[0m ln \u001b[39m=\u001b[39m jax\u001b[39m.\u001b[39mvmap(LN, (\u001b[39m0\u001b[39m, \u001b[39mNone\u001b[39;00m, \u001b[39mNone\u001b[39;00m), \u001b[39m0\u001b[39m)\n\u001b[1;32m      6\u001b[0m \u001b[39mself\u001b[39m\u001b[39m.\u001b[39memb \u001b[39m=\u001b[39m ln(emb, ln0\u001b[39m.\u001b[39mweight, ln0\u001b[39m.\u001b[39mbias)\n\u001b[0;32m----> 7\u001b[0m \u001b[39mself\u001b[39m\u001b[39m.\u001b[39mblocks \u001b[39m=\u001b[39m [Block(sd, i, dtype\u001b[39m=\u001b[39mdtype) \u001b[39mfor\u001b[39;00m i \u001b[39min\u001b[39;00m \u001b[39mrange\u001b[39m(blks)]\n\u001b[1;32m      8\u001b[0m \u001b[39mself\u001b[39m\u001b[39m.\u001b[39mln_out \u001b[39m=\u001b[39m Ln(sd, \u001b[39m\"\u001b[39m\u001b[39mln_out\u001b[39m\u001b[39m\"\u001b[39m, dtype\u001b[39m=\u001b[39mjnp\u001b[39m.\u001b[39mfloat32)\n\u001b[1;32m      9\u001b[0m \u001b[39mself\u001b[39m\u001b[39m.\u001b[39mhead \u001b[39m=\u001b[39m jax\u001b[39m.\u001b[39mdevice_put(sd[\u001b[39mf\u001b[39m\u001b[39m\"\u001b[39m\u001b[39mhead.weight\u001b[39m\u001b[39m\"\u001b[39m]\u001b[39m.\u001b[39mastype(dtype))\n",
      "Cell \u001b[0;32mIn[14], line 7\u001b[0m, in \u001b[0;36m<listcomp>\u001b[0;34m(.0)\u001b[0m\n\u001b[1;32m      5\u001b[0m ln \u001b[39m=\u001b[39m jax\u001b[39m.\u001b[39mvmap(LN, (\u001b[39m0\u001b[39m, \u001b[39mNone\u001b[39;00m, \u001b[39mNone\u001b[39;00m), \u001b[39m0\u001b[39m)\n\u001b[1;32m      6\u001b[0m \u001b[39mself\u001b[39m\u001b[39m.\u001b[39memb \u001b[39m=\u001b[39m ln(emb, ln0\u001b[39m.\u001b[39mweight, ln0\u001b[39m.\u001b[39mbias)\n\u001b[0;32m----> 7\u001b[0m \u001b[39mself\u001b[39m\u001b[39m.\u001b[39mblocks \u001b[39m=\u001b[39m [Block(sd, i, dtype\u001b[39m=\u001b[39;49mdtype) \u001b[39mfor\u001b[39;00m i \u001b[39min\u001b[39;00m \u001b[39mrange\u001b[39m(blks)]\n\u001b[1;32m      8\u001b[0m \u001b[39mself\u001b[39m\u001b[39m.\u001b[39mln_out \u001b[39m=\u001b[39m Ln(sd, \u001b[39m\"\u001b[39m\u001b[39mln_out\u001b[39m\u001b[39m\"\u001b[39m, dtype\u001b[39m=\u001b[39mjnp\u001b[39m.\u001b[39mfloat32)\n\u001b[1;32m      9\u001b[0m \u001b[39mself\u001b[39m\u001b[39m.\u001b[39mhead \u001b[39m=\u001b[39m jax\u001b[39m.\u001b[39mdevice_put(sd[\u001b[39mf\u001b[39m\u001b[39m\"\u001b[39m\u001b[39mhead.weight\u001b[39m\u001b[39m\"\u001b[39m]\u001b[39m.\u001b[39mastype(dtype))\n",
      "Cell \u001b[0;32mIn[7], line 7\u001b[0m, in \u001b[0;36mBlock.__init__\u001b[0;34m(self, sd, i, dtype)\u001b[0m\n\u001b[1;32m      5\u001b[0m \u001b[39mself\u001b[39m\u001b[39m.\u001b[39matt \u001b[39m=\u001b[39m Attention(sd, i, dtype\u001b[39m=\u001b[39mdtype)\n\u001b[1;32m      6\u001b[0m \u001b[39mself\u001b[39m\u001b[39m.\u001b[39mln2 \u001b[39m=\u001b[39m Ln(sd, \u001b[39mf\u001b[39m\u001b[39m\"\u001b[39m\u001b[39mblocks.\u001b[39m\u001b[39m{\u001b[39;00mi\u001b[39m}\u001b[39;00m\u001b[39m.ln2\u001b[39m\u001b[39m\"\u001b[39m, dtype\u001b[39m=\u001b[39mjnp\u001b[39m.\u001b[39mfloat32)\n\u001b[0;32m----> 7\u001b[0m \u001b[39mself\u001b[39m\u001b[39m.\u001b[39mffn \u001b[39m=\u001b[39m Ffn(sd, i, dtype\u001b[39m=\u001b[39;49mdtype)\n",
      "Cell \u001b[0;32mIn[12], line 17\u001b[0m, in \u001b[0;36mFfn.__init__\u001b[0;34m(self, sd, i, dtype)\u001b[0m\n\u001b[1;32m     15\u001b[0m \u001b[39mdef\u001b[39;00m \u001b[39m__init__\u001b[39m(\u001b[39mself\u001b[39m, sd, i, dtype\u001b[39m=\u001b[39mjnp\u001b[39m.\u001b[39mfloat32):\n\u001b[1;32m     16\u001b[0m     \u001b[39mself\u001b[39m\u001b[39m.\u001b[39mdtype \u001b[39m=\u001b[39m dtype\n\u001b[0;32m---> 17\u001b[0m     \u001b[39mself\u001b[39m\u001b[39m.\u001b[39mkey \u001b[39m=\u001b[39m jax\u001b[39m.\u001b[39;49mdevice_put(sd[\u001b[39mf\u001b[39;49m\u001b[39m\"\u001b[39;49m\u001b[39mblocks.\u001b[39;49m\u001b[39m{\u001b[39;49;00mi\u001b[39m}\u001b[39;49;00m\u001b[39m.ffn.key.weight\u001b[39;49m\u001b[39m\"\u001b[39;49m]\u001b[39m.\u001b[39;49mastype(dtype))\u001b[39m.\u001b[39;49mt()\n\u001b[1;32m     18\u001b[0m     \u001b[39mself\u001b[39m\u001b[39m.\u001b[39mreceptance \u001b[39m=\u001b[39m jax\u001b[39m.\u001b[39mdevice_put(jnp\u001b[39m.\u001b[39mtranspose(sd[\u001b[39mf\u001b[39m\u001b[39m\"\u001b[39m\u001b[39mblocks.\u001b[39m\u001b[39m{\u001b[39;00mi\u001b[39m}\u001b[39;00m\u001b[39m.ffn.receptance.weight\u001b[39m\u001b[39m\"\u001b[39m]\u001b[39m.\u001b[39mastype(dtype)))\n\u001b[1;32m     19\u001b[0m     \u001b[39mself\u001b[39m\u001b[39m.\u001b[39mtime_mix_k \u001b[39m=\u001b[39m jax\u001b[39m.\u001b[39mdevice_put(sd[\u001b[39mf\u001b[39m\u001b[39m\"\u001b[39m\u001b[39mblocks.\u001b[39m\u001b[39m{\u001b[39;00mi\u001b[39m}\u001b[39;00m\u001b[39m.ffn.time_mix_k\u001b[39m\u001b[39m\"\u001b[39m]\u001b[39m.\u001b[39mastype(dtype)\u001b[39m.\u001b[39msqueeze())\n",
      "\u001b[0;31mAttributeError\u001b[0m: 'Array' object has no attribute 't'"
     ]
    }
   ],
   "source": [
    "from jax.config import config\n",
    "config.update(\"jax_debug_nans\", True)\n",
    "config.update(\"jax_debug_infs\", True)\n",
    "config.update(\"jax_disable_jit\", True)\n",
    "\n",
    "rwkv_ = RWKV(rwkv, blks, dtype=jnp.float16)\n",
    "key = jax.random.PRNGKey(0)\n",
    "state = jnp.array(([0.0]*1024*4 + [-1e30]*1024)*blks, dtype=jnp.float32).reshape((5*blks,1024))\n",
    "print(rwkv_.emb.shape, state[4+5])\n",
    "rwkv_(147, state)\n",
    "# %timeit rwkv_(0, state) "
   ]
  }
 ],
 "metadata": {
  "kernelspec": {
   "display_name": "venv",
   "language": "python",
   "name": "python3"
  },
  "language_info": {
   "codemirror_mode": {
    "name": "ipython",
    "version": 3
   },
   "file_extension": ".py",
   "mimetype": "text/x-python",
   "name": "python",
   "nbconvert_exporter": "python",
   "pygments_lexer": "ipython3",
   "version": "3.10.9"
  },
  "orig_nbformat": 4,
  "vscode": {
   "interpreter": {
    "hash": "108a77ccb50483248237e4437e3c4c648b04e6f2ff2fc5096b4500deb5d70dcc"
   }
  }
 },
 "nbformat": 4,
 "nbformat_minor": 2
}
